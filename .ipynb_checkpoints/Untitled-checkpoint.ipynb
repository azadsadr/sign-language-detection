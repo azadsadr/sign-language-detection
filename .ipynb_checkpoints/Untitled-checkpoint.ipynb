{
 "cells": [
  {
   "cell_type": "code",
   "execution_count": null,
   "id": "d9cf0158",
   "metadata": {},
   "outputs": [],
   "source": [
    "import tyxe"
   ]
  },
  {
   "cell_type": "code",
   "execution_count": null,
   "id": "b46300ae",
   "metadata": {},
   "outputs": [
    {
     "name": "stderr",
     "output_type": "stream",
     "text": [
      "/home/thomas/miniconda3/envs/tyxe_lorzo/lib/python3.9/site-packages/torchvision/io/image.py:13: UserWarning: Failed to load image Python extension: libtorch_cuda_cu.so: cannot open shared object file: No such file or directory\n",
      "  warn(f\"Failed to load image Python extension: {e}\")\n"
     ]
    }
   ],
   "source": [
    "import numpy as np\n",
    "import pandas as pd\n",
    "import torch\n",
    "import pyro\n",
    "from torch import nn\n",
    "from torch.utils.data import Dataset\n",
    "from torchvision import datasets, transforms\n",
    "from torch.utils.data import DataLoader\n",
    "import matplotlib.pyplot as plt\n",
    "import pyro.distributions as dist\n",
    "from pandas_profiling import ProfileReport"
   ]
  },
  {
   "cell_type": "code",
   "execution_count": null,
   "id": "ca0b6d01",
   "metadata": {},
   "outputs": [],
   "source": [
    "from pyro.infer import SVI"
   ]
  },
  {
   "cell_type": "code",
   "execution_count": null,
   "id": "4b785943",
   "metadata": {},
   "outputs": [
    {
     "name": "stdout",
     "output_type": "stream",
     "text": [
      "Device: cuda:0\n"
     ]
    }
   ],
   "source": [
    "device = torch.device(\"cuda:0\" if torch.cuda.is_available() else \"cpu\")\n",
    "print('Device: {}'.format(device))\n",
    "if torch.cuda.is_available():\n",
    "        torch.set_default_tensor_type('torch.cuda.FloatTensor')\n",
    "else:\n",
    "        torch.set_default_tensor_type('torch.FloatTensor')"
   ]
  },
  {
   "cell_type": "code",
   "execution_count": null,
   "id": "0148d2ae",
   "metadata": {},
   "outputs": [],
   "source": [
    "data = pd.read_csv(\"data/sign_mnist_train.csv\")\n",
    "#profile = ProfileReport(data, title=\"Pandas Profiling Report\", explorative=True)\n",
    "#profile.to_widgets()"
   ]
  },
  {
   "cell_type": "code",
   "execution_count": null,
   "id": "564c02ec",
   "metadata": {},
   "outputs": [],
   "source": [
    "dataset_size = len(data[\"label\"])"
   ]
  },
  {
   "cell_type": "code",
   "execution_count": null,
   "id": "41108bd1",
   "metadata": {},
   "outputs": [
    {
     "name": "stdout",
     "output_type": "stream",
     "text": [
      "24\n"
     ]
    },
    {
     "data": {
      "text/plain": [
       "<AxesSubplot:ylabel='Frequency'>"
      ]
     },
     "execution_count": 7,
     "metadata": {},
     "output_type": "execute_result"
    },
    {
     "data": {
      "image/png": "[encoded data removed]",
      "text/plain": [
       "<Figure size 640x480 with 1 Axes>"
      ]
     },
     "metadata": {},
     "output_type": "display_data"
    }
   ],
   "source": [
    "n_classes = data[\"label\"].nunique()\n",
    "print(n_classes)\n",
    "data[\"label\"].plot.hist()"
   ]
  },
  {
   "cell_type": "code",
   "execution_count": null,
   "id": "0897572d",
   "metadata": {},
   "outputs": [],
   "source": [
    "y_train = data[\"label\"]\n",
    "X_train = data.drop(columns =[\"label\"])"
   ]
  },
  {
   "cell_type": "code",
   "execution_count": null,
   "id": "7eb01412",
   "metadata": {},
   "outputs": [],
   "source": [
    "# DATA PARSER AND LOADER FOR THE VALUES OF SKIN\n",
    "class HandSignsDataset(Dataset):\n",
    "    def __init__(self, images, labels=None, transforms=None):\n",
    "        self.X = np.asarray(images).astype(np.float32)\n",
    "        self.y = labels\n",
    "        self.transforms = transforms\n",
    "        #print(\"GUARDA QUI\", self.y.shape)\n",
    "         \n",
    "    def __len__(self):\n",
    "        return (len(self.X))\n",
    "    \n",
    "    def __getitem__(self, i):\n",
    "        data = self.X[i, :]\n",
    "        data = data.reshape(28, 28, 1)\n",
    "       \n",
    "        my_y = self.y.values[i]\n",
    "        \n",
    "        if self.transforms:\n",
    "            data = self.transforms(data)\n",
    "            \n",
    "        if self.y is not None:\n",
    "            return (data, my_y)\n",
    "        else:\n",
    "            return data"
   ]
  },
  {
   "cell_type": "code",
   "execution_count": null,
   "id": "5943f5a1",
   "metadata": {},
   "outputs": [],
   "source": [
    "y_train[y_train > 8] = y_train[y_train > 8] - 1\n",
    "pf = y_train[y_train == 9]"
   ]
  },
  {
   "cell_type": "code",
   "execution_count": null,
   "id": "7d328591",
   "metadata": {},
   "outputs": [
    {
     "data": {
      "text/plain": [
       "11       9\n",
       "45       9\n",
       "63       9\n",
       "76       9\n",
       "92       9\n",
       "        ..\n",
       "27319    9\n",
       "27330    9\n",
       "27345    9\n",
       "27360    9\n",
       "27384    9\n",
       "Name: label, Length: 1114, dtype: int64"
      ]
     },
     "execution_count": 11,
     "metadata": {},
     "output_type": "execute_result"
    }
   ],
   "source": [
    "pf"
   ]
  },
  {
   "cell_type": "code",
   "execution_count": null,
   "id": "655bb58a",
   "metadata": {},
   "outputs": [
    {
     "name": "stdout",
     "output_type": "stream",
     "text": [
      "         pixel1    pixel2    pixel3    pixel4    pixel5    pixel6    pixel7  \\\n",
      "0      0.419608  0.462745  0.498039  0.525490  0.545098  0.560784  0.572549   \n",
      "1      0.607843  0.615686  0.611765  0.611765  0.611765  0.615686  0.611765   \n",
      "2      0.733333  0.737255  0.737255  0.733333  0.733333  0.729412  0.733333   \n",
      "3      0.827451  0.827451  0.831373  0.831373  0.827451  0.823529  0.827451   \n",
      "4      0.643137  0.654902  0.666667  0.674510  0.690196  0.701961  0.705882   \n",
      "...         ...       ...       ...       ...       ...       ...       ...   \n",
      "27450  0.741176  0.741176  0.745098  0.745098  0.752941  0.756863  0.756863   \n",
      "27451  0.592157  0.603922  0.615686  0.619608  0.627451  0.631373  0.639216   \n",
      "27452  0.682353  0.682353  0.682353  0.682353  0.682353  0.686275  0.686275   \n",
      "27453  0.694118  0.709804  0.721569  0.725490  0.733333  0.741176  0.745098   \n",
      "27454  0.701961  0.705882  0.705882  0.705882  0.713725  0.709804  0.713725   \n",
      "\n",
      "         pixel8    pixel9   pixel10  ...  pixel775  pixel776  pixel777  \\\n",
      "0      0.588235  0.600000  0.611765  ...  0.811765  0.811765  0.811765   \n",
      "1      0.619608  0.619608  0.615686  ...  0.270588  0.584314  0.501961   \n",
      "2      0.737255  0.733333  0.729412  ...  0.792157  0.788235  0.784314   \n",
      "3      0.823529  0.823529  0.827451  ...  0.921569  0.917647  0.913725   \n",
      "4      0.721569  0.725490  0.729412  ...  0.360784  0.411765  0.411765   \n",
      "...         ...       ...       ...  ...       ...       ...       ...   \n",
      "27450  0.756863  0.756863  0.760784  ...  0.517647  0.647059  0.388235   \n",
      "27451  0.643137  0.650980  0.654902  ...  0.776471  0.776471  0.776471   \n",
      "27452  0.682353  0.678431  0.678431  ...  0.474510  0.768627  0.819608   \n",
      "27453  0.749020  0.749020  0.745098  ...  0.466667  0.219608  0.105882   \n",
      "27454  0.717647  0.713725  0.713725  ...  0.423529  0.517647  0.666667   \n",
      "\n",
      "       pixel778  pixel779  pixel780  pixel781  pixel782  pixel783  pixel784  \n",
      "0      0.811765  0.807843  0.807843  0.807843  0.800000  0.796078  0.792157  \n",
      "1      0.341176  0.368627  0.639216  0.686275  0.403922  0.529412  0.584314  \n",
      "2      0.780392  0.776471  0.780392  0.776471  0.764706  0.760784  0.764706  \n",
      "3      0.905882  0.901961  0.886275  0.882353  0.870588  0.898039  0.639216  \n",
      "4      0.423529  0.521569  0.639216  0.615686  0.639216  0.643137  0.701961  \n",
      "...         ...       ...       ...       ...       ...       ...       ...  \n",
      "27450  0.301961  0.203922  0.784314  0.917647  0.784314  0.870588  0.882353  \n",
      "27451  0.776471  0.776471  0.768627  0.764706  0.764706  0.764706  0.760784  \n",
      "27452  0.815686  0.807843  0.800000  0.796078  0.792157  0.784314  0.784314  \n",
      "27453  0.227451  0.400000  0.309804  0.184314  0.250980  0.341176  0.364706  \n",
      "27454  0.760784  0.839216  0.796078  0.772549  0.803922  0.819608  0.843137  \n",
      "\n",
      "[27455 rows x 784 columns]\n"
     ]
    }
   ],
   "source": [
    "#y_train = pd.get_dummies(y_train)\n",
    "X_train = X_train / 255\n",
    "print(X_train)"
   ]
  },
  {
   "cell_type": "code",
   "execution_count": null,
   "id": "0397aa0d",
   "metadata": {},
   "outputs": [
    {
     "name": "stdout",
     "output_type": "stream",
     "text": [
      "<__main__.HandSignsDataset object at 0x7f522eebbe50>\n"
     ]
    }
   ],
   "source": [
    "transform = transforms.Compose([ transforms.ToTensor(),\n",
    "                                 transforms.Normalize(mean = 0.5, std = 0.5)])\n",
    "\n",
    "\n",
    "train_data = HandSignsDataset(X_train, y_train, transform)\n",
    "#test_data = HandSignsDataset(X_test, y_test, transform)\n",
    "print(train_data)"
   ]
  },
  {
   "cell_type": "code",
   "execution_count": null,
   "id": "665716df",
   "metadata": {},
   "outputs": [],
   "source": [
    "generator = torch.Generator(device=device)"
   ]
  },
  {
   "cell_type": "code",
   "execution_count": null,
   "id": "9dd81c22",
   "metadata": {},
   "outputs": [],
   "source": [
    "# dataloaders\n",
    "trainloader = DataLoader(train_data, batch_size=int(len(X_train)/18), shuffle=True, generator=generator)\n",
    "#testloader = DataLoader(test_data, batch_size=8, shuffle=True)"
   ]
  },
  {
   "cell_type": "code",
   "execution_count": null,
   "id": "df1d2a9d",
   "metadata": {},
   "outputs": [
    {
     "data": {
      "text/plain": [
       "array([[0.41960785, 0.4627451 , 0.49803922, ..., 0.8       , 0.79607844,\n",
       "        0.7921569 ],\n",
       "       [0.60784316, 0.6156863 , 0.6117647 , ..., 0.40392157, 0.5294118 ,\n",
       "        0.58431375],\n",
       "       [0.73333335, 0.7372549 , 0.7372549 , ..., 0.7647059 , 0.7607843 ,\n",
       "        0.7647059 ],\n",
       "       ...,\n",
       "       [0.68235296, 0.68235296, 0.68235296, ..., 0.7921569 , 0.78431374,\n",
       "        0.78431374],\n",
       "       [0.69411767, 0.70980394, 0.72156864, ..., 0.2509804 , 0.34117648,\n",
       "        0.3647059 ],\n",
       "       [0.7019608 , 0.7058824 , 0.7058824 , ..., 0.8039216 , 0.81960785,\n",
       "        0.84313726]], dtype=float32)"
      ]
     },
     "execution_count": 16,
     "metadata": {},
     "output_type": "execute_result"
    }
   ],
   "source": [
    "np.asarray(train_data.X).astype(np.float32)"
   ]
  },
  {
   "cell_type": "code",
   "execution_count": null,
   "id": "b3769da8",
   "metadata": {},
   "outputs": [
    {
     "data": {
      "image/png": "[encoded data removed]",
      "text/plain": [
       "<Figure size 2000x1500 with 20 Axes>"
      ]
     },
     "metadata": {},
     "output_type": "display_data"
    }
   ],
   "source": [
    "# Observing first 40 images\n",
    "figure = plt.figure(figsize=(20,15))\n",
    "num_of_images = 20\n",
    "for index in range(1, num_of_images + 1):\n",
    "    plt.subplot(4, 10, index)\n",
    "    plt.axis('off')\n",
    "    I = np.asarray(train_data.X).astype(np.float32).reshape(-1,28,28,1)[index]\n",
    "    plt.imshow(I.astype('uint8'), )"
   ]
  },
  {
   "cell_type": "code",
   "execution_count": null,
   "id": "e07774ea",
   "metadata": {},
   "outputs": [
    {
     "name": "stdout",
     "output_type": "stream",
     "text": [
      "torch.Size([1525, 1, 28, 28])\n",
      "torch.Size([1525])\n"
     ]
    }
   ],
   "source": [
    "data_iter = iter(trainloader)\n",
    "images, labels = data_iter.next()\n",
    "print(images.shape)\n",
    "print(labels.shape)"
   ]
  },
  {
   "cell_type": "code",
   "execution_count": null,
   "id": "eee6b365",
   "metadata": {},
   "outputs": [],
   "source": [
    "input_shape = (1,28,28)\n",
    "output_size = n_classes"
   ]
  },
  {
   "cell_type": "code",
   "execution_count": null,
   "id": "8beb7048",
   "metadata": {},
   "outputs": [],
   "source": [
    "activ = nn.LeakyReLU \n",
    "input_size = input_shape[0]*input_shape[1]*input_shape[2]\n",
    "in_channels = input_shape[0]\n",
    "\n",
    "\n",
    "net = nn.Sequential(nn.Conv2d(in_channels=in_channels,\n",
    "                              out_channels=64,\n",
    "                              kernel_size=5,\n",
    "                              ),\n",
    "                    activ(),\n",
    "                    nn.MaxPool2d(2,2),\n",
    "                    #nn.BatchNorm2d(64),\n",
    "                    nn.Conv2d(in_channels=64,\n",
    "                              out_channels=512,\n",
    "                              kernel_size=3,\n",
    "                              ),\n",
    "                    activ(),\n",
    "                    nn.MaxPool2d(2,2),\n",
    "                    #nn.Dropout(p=0.3),\n",
    "                    #nn.Conv2d(in_channels=512,\n",
    "                    #          out_channels=1024,\n",
    "                    #          kernel_size=3,\n",
    "                    #          ),\n",
    "                    #activ(),\n",
    "                    #nn.MaxPool2d(2,2),\n",
    "                    #nn.BatchNorm2d(1024),\n",
    "                    #nn.Dropout(p=0.4),\n",
    "                    #nn.Conv2d(in_channels=1024,\n",
    "                    #          out_channels=1024,\n",
    "                    #          kernel_size=2,\n",
    "                    #          ),\n",
    "                    #activ(),\n",
    "                    #nn.MaxPool2d(2,2),\n",
    "                    #nn.Dropout(p=0.4),\n",
    "                    nn.Flatten(),\n",
    "                    nn.Linear(512*5*5, 256),\n",
    "                    #nn.Dropout(p=0.5),\n",
    "                    nn.Linear(256, output_size))"
   ]
  },
  {
   "cell_type": "code",
   "execution_count": null,
   "id": "42a13fee",
   "metadata": {},
   "outputs": [],
   "source": [
    "likelihood = tyxe.likelihoods.Categorical(dataset_size)\n",
    "prior = tyxe.priors.IIDPrior(dist.Normal(0, 1))\n",
    "guide = tyxe.guides.AutoNormal\n",
    "bnn = tyxe.VariationalBNN(net, prior, likelihood, guide)"
   ]
  },
  {
   "cell_type": "code",
   "execution_count": null,
   "id": "18813b45",
   "metadata": {},
   "outputs": [
    {
     "data": {
      "text/plain": [
       "\u001b[0;31mInit signature:\u001b[0m\n",
       "\u001b[0mtyxe\u001b[0m\u001b[0;34m.\u001b[0m\u001b[0mVariationalBNN\u001b[0m\u001b[0;34m(\u001b[0m\u001b[0;34m\u001b[0m\n",
       "\u001b[0;34m\u001b[0m    \u001b[0mnet\u001b[0m\u001b[0;34m,\u001b[0m\u001b[0;34m\u001b[0m\n",
       "\u001b[0;34m\u001b[0m    \u001b[0mprior\u001b[0m\u001b[0;34m,\u001b[0m\u001b[0;34m\u001b[0m\n",
       "\u001b[0;34m\u001b[0m    \u001b[0mlikelihood\u001b[0m\u001b[0;34m,\u001b[0m\u001b[0;34m\u001b[0m\n",
       "\u001b[0;34m\u001b[0m    \u001b[0mnet_guide_builder\u001b[0m\u001b[0;34m=\u001b[0m\u001b[0;32mNone\u001b[0m\u001b[0;34m,\u001b[0m\u001b[0;34m\u001b[0m\n",
       "\u001b[0;34m\u001b[0m    \u001b[0mlikelihood_guide_builder\u001b[0m\u001b[0;34m=\u001b[0m\u001b[0;32mNone\u001b[0m\u001b[0;34m,\u001b[0m\u001b[0;34m\u001b[0m\n",
       "\u001b[0;34m\u001b[0m    \u001b[0mname\u001b[0m\u001b[0;34m=\u001b[0m\u001b[0;34m''\u001b[0m\u001b[0;34m,\u001b[0m\u001b[0;34m\u001b[0m\n",
       "\u001b[0;34m\u001b[0m\u001b[0;34m)\u001b[0m\u001b[0;34m\u001b[0m\u001b[0;34m\u001b[0m\u001b[0m\n",
       "\u001b[0;31mDocstring:\u001b[0m     \n",
       "Variational BNN class for supervised problems. Requires a likelihood that describes the data noise and an\n",
       "optional guide builder for it should it contain any variables that need to be inferred. Provides high-level utility\n",
       "method such as fit, predict and\n",
       "\n",
       ":param callable net_guide_builder: pyro.infer.autoguide.AutoCallable style class that given a pyro function\n",
       "    constructs a variational posterior that sample the same unobserved sites from distributions with learnable\n",
       "    parameters.\n",
       ":param callable likelihood_guide_builder: optional callable that constructs a guide for the likelihood if it\n",
       "    contains any unknown variable, such as the precision/scale of a Gaussian.\n",
       "\u001b[0;31mInit docstring:\u001b[0m Initializes internal Module state, shared by both nn.Module and ScriptModule.\n",
       "\u001b[0;31mFile:\u001b[0m           ~/Documents/repositories/sign-language-detection/TyXe/tyxe/bnn.py\n",
       "\u001b[0;31mType:\u001b[0m           _PyroModuleMeta\n",
       "\u001b[0;31mSubclasses:\u001b[0m     \n"
      ]
     },
     "metadata": {},
     "output_type": "display_data"
    }
   ],
   "source": [
    "?tyxe.VariationalBNN"
   ]
  },
  {
   "cell_type": "code",
   "execution_count": null,
   "id": "3ec86f66",
   "metadata": {},
   "outputs": [
    {
     "data": {
      "text/plain": [
       "VariationalBNN(\n",
       "  (net): PyroSequential(\n",
       "    (0): PyroConv2d(1, 64, kernel_size=(5, 5), stride=(1, 1))\n",
       "    (1): PyroLeakyReLU(negative_slope=0.01)\n",
       "    (2): PyroMaxPool2d(kernel_size=2, stride=2, padding=0, dilation=1, ceil_mode=False)\n",
       "    (3): PyroConv2d(64, 512, kernel_size=(3, 3), stride=(1, 1))\n",
       "    (4): PyroLeakyReLU(negative_slope=0.01)\n",
       "    (5): PyroMaxPool2d(kernel_size=2, stride=2, padding=0, dilation=1, ceil_mode=False)\n",
       "    (6): PyroFlatten(start_dim=1, end_dim=-1)\n",
       "    (7): PyroLinear(in_features=12800, out_features=256, bias=True)\n",
       "    (8): PyroLinear(in_features=256, out_features=24, bias=True)\n",
       "  )\n",
       "  (net_guide): AutoNormal()\n",
       "  (likelihood): Categorical()\n",
       ")"
      ]
     },
     "execution_count": 23,
     "metadata": {},
     "output_type": "execute_result"
    }
   ],
   "source": [
    "bnn"
   ]
  },
  {
   "cell_type": "code",
   "execution_count": null,
   "id": "c214f099",
   "metadata": {},
   "outputs": [],
   "source": [
    "#prior = tyxe.priors.IIDPrior(dist.Normal(0, 1), expose_all=False, hide_module_types=[nn.BatchNorm2d])\n",
    "#likelihood = tyxe.likelihoods.Categorical(dataset_size)\n",
    "#guide = partial(tyxe.guides.AutoNormal, train_loc=False, init_scale=1e-4, init_loc_fn=tyxe.guides.PretrainedInitializer.from_net(resnet))\n",
    "#bayesian_resnet = tyxe.VariationalBNN(resnet, prior, likelihood, guide)"
   ]
  },
  {
   "cell_type": "code",
   "execution_count": null,
   "id": "921aabb7",
   "metadata": {},
   "outputs": [],
   "source": [
    "pyro.clear_param_store()\n",
    "\n",
    "lr = 1e-3\n",
    "n_epochs = 100\n",
    "optim = pyro.optim.Adam({\"lr\": lr})\n",
    "\n",
    "elbos = []\n",
    "def callback(bnn, i, e):\n",
    "    elbos.append(e)\n",
    "    #print(\"epoch:\" + str(i))\n",
    "\n",
    "\n",
    "with tyxe.poutine.local_reparameterization():\n",
    "    bnn.fit(trainloader, optim, n_epochs, callback, device=device)"
   ]
  },
  {
   "cell_type": "code",
   "execution_count": null,
   "id": "d11ee03b",
   "metadata": {},
   "outputs": [
    {
     "data": {
      "image/png": "[encoded data removed]",
      "text/plain": [
       "<Figure size 640x480 with 1 Axes>"
      ]
     },
     "metadata": {},
     "output_type": "display_data"
    }
   ],
   "source": [
    "_=plt.plot(elbos)"
   ]
  },
  {
   "cell_type": "code",
   "execution_count": null,
   "id": "38d30d20",
   "metadata": {},
   "outputs": [
    {
     "name": "stdout",
     "output_type": "stream",
     "text": [
      "1.8.0+0ec1e87\n"
     ]
    }
   ],
   "source": [
    "print(pyro.__version__)"
   ]
  },
  {
   "cell_type": "code",
   "execution_count": null,
   "id": "ea5794dd",
   "metadata": {},
   "outputs": [
    {
     "name": "stdout",
     "output_type": "stream",
     "text": [
      "\n"
     ]
    }
   ],
   "source": [
    "!echo \"$PYTHONPATH\""
   ]
  },
  {
   "cell_type": "code",
   "execution_count": null,
   "id": "cfe1d4bd",
   "metadata": {},
   "outputs": [
    {
     "data": {
      "text/plain": [
       "\u001b[0;31mSignature:\u001b[0m\n",
       "\u001b[0mbnn\u001b[0m\u001b[0;34m.\u001b[0m\u001b[0mfit\u001b[0m\u001b[0;34m(\u001b[0m\u001b[0;34m\u001b[0m\n",
       "\u001b[0;34m\u001b[0m    \u001b[0mdata_loader\u001b[0m\u001b[0;34m,\u001b[0m\u001b[0;34m\u001b[0m\n",
       "\u001b[0;34m\u001b[0m    \u001b[0moptim\u001b[0m\u001b[0;34m,\u001b[0m\u001b[0;34m\u001b[0m\n",
       "\u001b[0;34m\u001b[0m    \u001b[0mnum_epochs\u001b[0m\u001b[0;34m,\u001b[0m\u001b[0;34m\u001b[0m\n",
       "\u001b[0;34m\u001b[0m    \u001b[0mcallback\u001b[0m\u001b[0;34m=\u001b[0m\u001b[0;32mNone\u001b[0m\u001b[0;34m,\u001b[0m\u001b[0;34m\u001b[0m\n",
       "\u001b[0;34m\u001b[0m    \u001b[0mnum_particles\u001b[0m\u001b[0;34m=\u001b[0m\u001b[0;36m1\u001b[0m\u001b[0;34m,\u001b[0m\u001b[0;34m\u001b[0m\n",
       "\u001b[0;34m\u001b[0m    \u001b[0mclosed_form_kl\u001b[0m\u001b[0;34m=\u001b[0m\u001b[0;32mTrue\u001b[0m\u001b[0;34m,\u001b[0m\u001b[0;34m\u001b[0m\n",
       "\u001b[0;34m\u001b[0m    \u001b[0mdevice\u001b[0m\u001b[0;34m=\u001b[0m\u001b[0;32mNone\u001b[0m\u001b[0;34m,\u001b[0m\u001b[0;34m\u001b[0m\n",
       "\u001b[0;34m\u001b[0m\u001b[0;34m)\u001b[0m\u001b[0;34m\u001b[0m\u001b[0;34m\u001b[0m\u001b[0m\n",
       "\u001b[0;31mDocstring:\u001b[0m\n",
       "Optimizes the variational parameters on data from data_loader using optim for num_epochs.\n",
       "\n",
       ":param Iterable data_loader: iterable over batches of data, e.g. a torch.utils.data.DataLoader. Assumes that\n",
       "    each element consists of a length two tuple of list, with the first element either containing a single\n",
       "    object or a list of objects, e.g. torch.Tensors, that are the inputs to the neural network. The second\n",
       "    element is a single torch.Tensor e.g. of class labels.\n",
       ":param optim: pyro optimizer to be used for constructing an SVI object, e.g. pyro.optim.Adam({\"lr\": 1e-3}).\n",
       ":param int num_epochs: number of passes over data_loader.\n",
       ":param callable callback: optional function to invoke after every training epoch. Receives the BNN object,\n",
       "    the epoch number and the average value of the ELBO over the epoch. May return True to terminate\n",
       "    optimization before num_epochs, e.g. if it finds that a validation log likelihood saturates.\n",
       ":param int num_particles: number of MC samples for estimating the ELBO.\n",
       ":param bool closed_form_kl: whether to use TraceMeanField_ELBO or Trace_ELBO, i.e. calculate KL divergence\n",
       "    between approximate posterior and prior in closed form or via a Monte Carlo estimate.\n",
       ":param torch.device device: optional device to send the data to.\n",
       "\u001b[0;31mFile:\u001b[0m      ~/Documents/repositories/sign-language-detection/TyXe/tyxe/bnn.py\n",
       "\u001b[0;31mType:\u001b[0m      method\n"
      ]
     },
     "metadata": {},
     "output_type": "display_data"
    }
   ],
   "source": [
    "?bnn.fit"
   ]
  },
  {
   "cell_type": "code",
   "execution_count": null,
   "id": "cfd0ebe8",
   "metadata": {},
   "outputs": [],
   "source": [
    "tdata = pd.read_csv(\"data/sign_mnist_test.csv\")"
   ]
  },
  {
   "cell_type": "code",
   "execution_count": null,
   "id": "e71d4dc0",
   "metadata": {},
   "outputs": [],
   "source": [
    "y_test = tdata[\"label\"]\n",
    "X_test = tdata.drop(columns =[\"label\"])"
   ]
  },
  {
   "cell_type": "code",
   "execution_count": null,
   "id": "1a16e571",
   "metadata": {},
   "outputs": [],
   "source": [
    "y_test[y_test > 8] = y_test[y_test > 8] - 1"
   ]
  },
  {
   "cell_type": "code",
   "execution_count": null,
   "id": "da2cec6f",
   "metadata": {},
   "outputs": [],
   "source": [
    "X_test = X_test / 255"
   ]
  },
  {
   "cell_type": "code",
   "execution_count": null,
   "id": "2fc95278",
   "metadata": {},
   "outputs": [],
   "source": [
    "test_data = HandSignsDataset(X_test, y_test, transform)"
   ]
  },
  {
   "cell_type": "code",
   "execution_count": null,
   "id": "b0756aa1",
   "metadata": {},
   "outputs": [],
   "source": [
    "x = X_test"
   ]
  },
  {
   "cell_type": "code",
   "execution_count": null,
   "id": "a58d9ffd",
   "metadata": {},
   "outputs": [
    {
     "data": {
      "text/plain": [
       "\u001b[0;31mType:\u001b[0m            HandSignsDataset\n",
       "\u001b[0;31mString form:\u001b[0m     <__main__.HandSignsDataset object at 0x7f51fcb89040>\n",
       "\u001b[0;31mLength:\u001b[0m          7172\n",
       "\u001b[0;31mDocstring:\u001b[0m       <no docstring>\n",
       "\u001b[0;31mClass docstring:\u001b[0m\n",
       "An abstract class representing a :class:`Dataset`.\n",
       "\n",
       "All datasets that represent a map from keys to data samples should subclass\n",
       "it. All subclasses should overwrite :meth:`__getitem__`, supporting fetching a\n",
       "data sample for a given key. Subclasses could also optionally overwrite\n",
       ":meth:`__len__`, which is expected to return the size of the dataset by many\n",
       ":class:`~torch.utils.data.Sampler` implementations and the default options\n",
       "of :class:`~torch.utils.data.DataLoader`.\n",
       "\n",
       ".. note::\n",
       "  :class:`~torch.utils.data.DataLoader` by default constructs a index\n",
       "  sampler that yields integral indices.  To make it work with a map-style\n",
       "  dataset with non-integral indices/keys, a custom sampler must be provided.\n"
      ]
     },
     "metadata": {},
     "output_type": "display_data"
    }
   ],
   "source": [
    "?test_data"
   ]
  },
  {
   "cell_type": "code",
   "execution_count": null,
   "id": "08951317",
   "metadata": {},
   "outputs": [],
   "source": [
    "testloader = DataLoader(test_data, batch_size=50, shuffle=True, generator=generator)"
   ]
  },
  {
   "cell_type": "code",
   "execution_count": null,
   "id": "779c4579",
   "metadata": {},
   "outputs": [
    {
     "data": {
      "text/plain": [
       "\u001b[0;31mSignature:\u001b[0m\n",
       "\u001b[0mbnn\u001b[0m\u001b[0;34m.\u001b[0m\u001b[0mevaluate\u001b[0m\u001b[0;34m(\u001b[0m\u001b[0;34m\u001b[0m\n",
       "\u001b[0;34m\u001b[0m    \u001b[0minput_data\u001b[0m\u001b[0;34m,\u001b[0m\u001b[0;34m\u001b[0m\n",
       "\u001b[0;34m\u001b[0m    \u001b[0my\u001b[0m\u001b[0;34m,\u001b[0m\u001b[0;34m\u001b[0m\n",
       "\u001b[0;34m\u001b[0m    \u001b[0mnum_predictions\u001b[0m\u001b[0;34m=\u001b[0m\u001b[0;36m1\u001b[0m\u001b[0;34m,\u001b[0m\u001b[0;34m\u001b[0m\n",
       "\u001b[0;34m\u001b[0m    \u001b[0maggregate\u001b[0m\u001b[0;34m=\u001b[0m\u001b[0;32mTrue\u001b[0m\u001b[0;34m,\u001b[0m\u001b[0;34m\u001b[0m\n",
       "\u001b[0;34m\u001b[0m    \u001b[0mreduction\u001b[0m\u001b[0;34m=\u001b[0m\u001b[0;34m'sum'\u001b[0m\u001b[0;34m,\u001b[0m\u001b[0;34m\u001b[0m\n",
       "\u001b[0;34m\u001b[0m\u001b[0;34m)\u001b[0m\u001b[0;34m\u001b[0m\u001b[0;34m\u001b[0m\u001b[0m\n",
       "\u001b[0;31mDocstring:\u001b[0m\n",
       "\"Utility method for evaluation. Calculates a likelihood-dependent errors measure, e.g. squared errors or\n",
       "mis-classifications and\n",
       "\n",
       ":param input_data: Inputs to the neural net. Must be a tuple of more than one.\n",
       ":param y: observations, e.g. class labels.\n",
       ":param int num_predictions: number of forward passes.\n",
       ":param bool aggregate: whether to aggregate the outputs of the forward passes before evaluating.\n",
       ":param str reduction: \"sum\", \"mean\" or \"none\". How to process the tensor of errors. \"sum\" adds them up,\n",
       "    \"mean\" averages them and \"none\" simply returns the tensor.\n",
       "\u001b[0;31mFile:\u001b[0m      ~/Documents/repositories/sign-language-detection/TyXe/tyxe/bnn.py\n",
       "\u001b[0;31mType:\u001b[0m      method\n"
      ]
     },
     "metadata": {},
     "output_type": "display_data"
    }
   ],
   "source": [
    "?bnn.evaluate"
   ]
  },
  {
   "cell_type": "code",
   "execution_count": null,
   "id": "4411f6a2",
   "metadata": {},
   "outputs": [
    {
     "ename": "TypeError",
     "evalue": "conv2d() received an invalid combination of arguments - got (DataFrame, Tensor, Tensor, tuple, tuple, tuple, int), but expected one of:\n * (Tensor input, Tensor weight, Tensor bias, tuple of ints stride, tuple of ints padding, tuple of ints dilation, int groups)\n      didn't match because some of the arguments have invalid types: (!DataFrame!, Tensor, Tensor, !tuple!, !tuple!, !tuple!, int)\n * (Tensor input, Tensor weight, Tensor bias, tuple of ints stride, str padding, tuple of ints dilation, int groups)\n      didn't match because some of the arguments have invalid types: (!DataFrame!, Tensor, Tensor, !tuple!, !tuple!, !tuple!, int)\n",
     "output_type": "error",
     "traceback": [
      "\u001b[0;31m---------------------------------------------------------------------------\u001b[0m",
      "\u001b[0;31mTypeError\u001b[0m                                 Traceback (most recent call last)",
      "Input \u001b[0;32mIn [39]\u001b[0m, in \u001b[0;36m<cell line: 1>\u001b[0;34m()\u001b[0m\n\u001b[0;32m----> 1\u001b[0m \u001b[43mbnn\u001b[49m\u001b[38;5;241;43m.\u001b[39;49m\u001b[43mevaluate\u001b[49m\u001b[43m(\u001b[49m\u001b[43mX_test\u001b[49m\u001b[43m,\u001b[49m\u001b[43m \u001b[49m\u001b[43my_test\u001b[49m\u001b[43m,\u001b[49m\u001b[43m \u001b[49m\u001b[43mnum_predictions\u001b[49m\u001b[38;5;241;43m=\u001b[39;49m\u001b[38;5;241;43m10\u001b[39;49m\u001b[43m)\u001b[49m\n",
      "File \u001b[0;32m~/Documents/repositories/sign-language-detection/TyXe/tyxe/bnn.py:141\u001b[0m, in \u001b[0;36m_SupervisedBNN.evaluate\u001b[0;34m(self, input_data, y, num_predictions, aggregate, reduction)\u001b[0m\n\u001b[1;32m    131\u001b[0m \u001b[38;5;28;01mdef\u001b[39;00m \u001b[38;5;21mevaluate\u001b[39m(\u001b[38;5;28mself\u001b[39m, input_data, y, num_predictions\u001b[38;5;241m=\u001b[39m\u001b[38;5;241m1\u001b[39m, aggregate\u001b[38;5;241m=\u001b[39m\u001b[38;5;28;01mTrue\u001b[39;00m, reduction\u001b[38;5;241m=\u001b[39m\u001b[38;5;124m\"\u001b[39m\u001b[38;5;124msum\u001b[39m\u001b[38;5;124m\"\u001b[39m):\n\u001b[1;32m    132\u001b[0m     \u001b[38;5;124;03m\"\"\"\"Utility method for evaluation. Calculates a likelihood-dependent errors measure, e.g. squared errors or\u001b[39;00m\n\u001b[1;32m    133\u001b[0m \u001b[38;5;124;03m    mis-classifications and\u001b[39;00m\n\u001b[1;32m    134\u001b[0m \n\u001b[0;32m   (...)\u001b[0m\n\u001b[1;32m    139\u001b[0m \u001b[38;5;124;03m    :param str reduction: \"sum\", \"mean\" or \"none\". How to process the tensor of errors. \"sum\" adds them up,\u001b[39;00m\n\u001b[1;32m    140\u001b[0m \u001b[38;5;124;03m        \"mean\" averages them and \"none\" simply returns the tensor.\"\"\"\u001b[39;00m\n\u001b[0;32m--> 141\u001b[0m     predictions \u001b[38;5;241m=\u001b[39m \u001b[38;5;28;43mself\u001b[39;49m\u001b[38;5;241;43m.\u001b[39;49m\u001b[43mpredict\u001b[49m\u001b[43m(\u001b[49m\u001b[38;5;241;43m*\u001b[39;49m\u001b[43m_as_tuple\u001b[49m\u001b[43m(\u001b[49m\u001b[43minput_data\u001b[49m\u001b[43m)\u001b[49m\u001b[43m,\u001b[49m\u001b[43m \u001b[49m\u001b[43mnum_predictions\u001b[49m\u001b[38;5;241;43m=\u001b[39;49m\u001b[43mnum_predictions\u001b[49m\u001b[43m,\u001b[49m\u001b[43m \u001b[49m\u001b[43maggregate\u001b[49m\u001b[38;5;241;43m=\u001b[39;49m\u001b[43maggregate\u001b[49m\u001b[43m)\u001b[49m\n\u001b[1;32m    142\u001b[0m     error \u001b[38;5;241m=\u001b[39m \u001b[38;5;28mself\u001b[39m\u001b[38;5;241m.\u001b[39mlikelihood\u001b[38;5;241m.\u001b[39merror(predictions, y, reduction\u001b[38;5;241m=\u001b[39mreduction)\n\u001b[1;32m    143\u001b[0m     ll \u001b[38;5;241m=\u001b[39m \u001b[38;5;28mself\u001b[39m\u001b[38;5;241m.\u001b[39mlikelihood\u001b[38;5;241m.\u001b[39mlog_likelihood(predictions, y, reduction\u001b[38;5;241m=\u001b[39mreduction)\n",
      "File \u001b[0;32m~/Documents/repositories/sign-language-detection/TyXe/tyxe/bnn.py:222\u001b[0m, in \u001b[0;36mVariationalBNN.predict\u001b[0;34m(self, num_predictions, aggregate, guide_traces, *input_data)\u001b[0m\n\u001b[1;32m    220\u001b[0m \u001b[38;5;28;01mwith\u001b[39;00m torch\u001b[38;5;241m.\u001b[39mautograd\u001b[38;5;241m.\u001b[39mno_grad():\n\u001b[1;32m    221\u001b[0m     \u001b[38;5;28;01mfor\u001b[39;00m trace \u001b[38;5;129;01min\u001b[39;00m guide_traces:\n\u001b[0;32m--> 222\u001b[0m         preds\u001b[38;5;241m.\u001b[39mappend(\u001b[38;5;28;43mself\u001b[39;49m\u001b[38;5;241;43m.\u001b[39;49m\u001b[43mguided_forward\u001b[49m\u001b[43m(\u001b[49m\u001b[38;5;241;43m*\u001b[39;49m\u001b[43minput_data\u001b[49m\u001b[43m,\u001b[49m\u001b[43m \u001b[49m\u001b[43mguide_tr\u001b[49m\u001b[38;5;241;43m=\u001b[39;49m\u001b[43mtrace\u001b[49m\u001b[43m)\u001b[49m)\n\u001b[1;32m    223\u001b[0m predictions \u001b[38;5;241m=\u001b[39m torch\u001b[38;5;241m.\u001b[39mstack(preds)\n\u001b[1;32m    224\u001b[0m \u001b[38;5;28;01mreturn\u001b[39;00m \u001b[38;5;28mself\u001b[39m\u001b[38;5;241m.\u001b[39mlikelihood\u001b[38;5;241m.\u001b[39maggregate_predictions(predictions) \u001b[38;5;28;01mif\u001b[39;00m aggregate \u001b[38;5;28;01melse\u001b[39;00m predictions\n",
      "File \u001b[0;32m~/Documents/repositories/sign-language-detection/TyXe/tyxe/bnn.py:76\u001b[0m, in \u001b[0;36mGuidedBNN.guided_forward\u001b[0;34m(self, guide_tr, *args, **kwargs)\u001b[0m\n\u001b[1;32m     74\u001b[0m \u001b[38;5;28;01mif\u001b[39;00m guide_tr \u001b[38;5;129;01mis\u001b[39;00m \u001b[38;5;28;01mNone\u001b[39;00m:\n\u001b[1;32m     75\u001b[0m     guide_tr \u001b[38;5;241m=\u001b[39m poutine\u001b[38;5;241m.\u001b[39mtrace(\u001b[38;5;28mself\u001b[39m\u001b[38;5;241m.\u001b[39mnet_guide)\u001b[38;5;241m.\u001b[39mget_trace(\u001b[38;5;241m*\u001b[39margs, \u001b[38;5;241m*\u001b[39m\u001b[38;5;241m*\u001b[39mkwargs)\n\u001b[0;32m---> 76\u001b[0m \u001b[38;5;28;01mreturn\u001b[39;00m \u001b[43mpoutine\u001b[49m\u001b[38;5;241;43m.\u001b[39;49m\u001b[43mreplay\u001b[49m\u001b[43m(\u001b[49m\u001b[38;5;28;43mself\u001b[39;49m\u001b[38;5;241;43m.\u001b[39;49m\u001b[43mnet\u001b[49m\u001b[43m,\u001b[49m\u001b[43m \u001b[49m\u001b[43mtrace\u001b[49m\u001b[38;5;241;43m=\u001b[39;49m\u001b[43mguide_tr\u001b[49m\u001b[43m)\u001b[49m\u001b[43m(\u001b[49m\u001b[38;5;241;43m*\u001b[39;49m\u001b[43margs\u001b[49m\u001b[43m,\u001b[49m\u001b[43m \u001b[49m\u001b[38;5;241;43m*\u001b[39;49m\u001b[38;5;241;43m*\u001b[39;49m\u001b[43mkwargs\u001b[49m\u001b[43m)\u001b[49m\n",
      "File \u001b[0;32m~/miniconda3/envs/tyxe_lorzo/lib/python3.9/site-packages/pyro/poutine/messenger.py:12\u001b[0m, in \u001b[0;36m_context_wrap\u001b[0;34m(context, fn, *args, **kwargs)\u001b[0m\n\u001b[1;32m     10\u001b[0m \u001b[38;5;28;01mdef\u001b[39;00m \u001b[38;5;21m_context_wrap\u001b[39m(context, fn, \u001b[38;5;241m*\u001b[39margs, \u001b[38;5;241m*\u001b[39m\u001b[38;5;241m*\u001b[39mkwargs):\n\u001b[1;32m     11\u001b[0m     \u001b[38;5;28;01mwith\u001b[39;00m context:\n\u001b[0;32m---> 12\u001b[0m         \u001b[38;5;28;01mreturn\u001b[39;00m \u001b[43mfn\u001b[49m\u001b[43m(\u001b[49m\u001b[38;5;241;43m*\u001b[39;49m\u001b[43margs\u001b[49m\u001b[43m,\u001b[49m\u001b[43m \u001b[49m\u001b[38;5;241;43m*\u001b[39;49m\u001b[38;5;241;43m*\u001b[39;49m\u001b[43mkwargs\u001b[49m\u001b[43m)\u001b[49m\n",
      "File \u001b[0;32m~/miniconda3/envs/tyxe_lorzo/lib/python3.9/site-packages/pyro/nn/module.py:426\u001b[0m, in \u001b[0;36mPyroModule.__call__\u001b[0;34m(self, *args, **kwargs)\u001b[0m\n\u001b[1;32m    424\u001b[0m \u001b[38;5;28;01mdef\u001b[39;00m \u001b[38;5;21m__call__\u001b[39m(\u001b[38;5;28mself\u001b[39m, \u001b[38;5;241m*\u001b[39margs, \u001b[38;5;241m*\u001b[39m\u001b[38;5;241m*\u001b[39mkwargs):\n\u001b[1;32m    425\u001b[0m     \u001b[38;5;28;01mwith\u001b[39;00m \u001b[38;5;28mself\u001b[39m\u001b[38;5;241m.\u001b[39m_pyro_context:\n\u001b[0;32m--> 426\u001b[0m         \u001b[38;5;28;01mreturn\u001b[39;00m \u001b[38;5;28;43msuper\u001b[39;49m\u001b[43m(\u001b[49m\u001b[43m)\u001b[49m\u001b[38;5;241;43m.\u001b[39;49m\u001b[38;5;21;43m__call__\u001b[39;49m\u001b[43m(\u001b[49m\u001b[38;5;241;43m*\u001b[39;49m\u001b[43margs\u001b[49m\u001b[43m,\u001b[49m\u001b[43m \u001b[49m\u001b[38;5;241;43m*\u001b[39;49m\u001b[38;5;241;43m*\u001b[39;49m\u001b[43mkwargs\u001b[49m\u001b[43m)\u001b[49m\n",
      "File \u001b[0;32m~/miniconda3/envs/tyxe_lorzo/lib/python3.9/site-packages/torch/nn/modules/module.py:1130\u001b[0m, in \u001b[0;36mModule._call_impl\u001b[0;34m(self, *input, **kwargs)\u001b[0m\n\u001b[1;32m   1126\u001b[0m \u001b[38;5;66;03m# If we don't have any hooks, we want to skip the rest of the logic in\u001b[39;00m\n\u001b[1;32m   1127\u001b[0m \u001b[38;5;66;03m# this function, and just call forward.\u001b[39;00m\n\u001b[1;32m   1128\u001b[0m \u001b[38;5;28;01mif\u001b[39;00m \u001b[38;5;129;01mnot\u001b[39;00m (\u001b[38;5;28mself\u001b[39m\u001b[38;5;241m.\u001b[39m_backward_hooks \u001b[38;5;129;01mor\u001b[39;00m \u001b[38;5;28mself\u001b[39m\u001b[38;5;241m.\u001b[39m_forward_hooks \u001b[38;5;129;01mor\u001b[39;00m \u001b[38;5;28mself\u001b[39m\u001b[38;5;241m.\u001b[39m_forward_pre_hooks \u001b[38;5;129;01mor\u001b[39;00m _global_backward_hooks\n\u001b[1;32m   1129\u001b[0m         \u001b[38;5;129;01mor\u001b[39;00m _global_forward_hooks \u001b[38;5;129;01mor\u001b[39;00m _global_forward_pre_hooks):\n\u001b[0;32m-> 1130\u001b[0m     \u001b[38;5;28;01mreturn\u001b[39;00m \u001b[43mforward_call\u001b[49m\u001b[43m(\u001b[49m\u001b[38;5;241;43m*\u001b[39;49m\u001b[38;5;28;43minput\u001b[39;49m\u001b[43m,\u001b[49m\u001b[43m \u001b[49m\u001b[38;5;241;43m*\u001b[39;49m\u001b[38;5;241;43m*\u001b[39;49m\u001b[43mkwargs\u001b[49m\u001b[43m)\u001b[49m\n\u001b[1;32m   1131\u001b[0m \u001b[38;5;66;03m# Do not call functions when jit is used\u001b[39;00m\n\u001b[1;32m   1132\u001b[0m full_backward_hooks, non_full_backward_hooks \u001b[38;5;241m=\u001b[39m [], []\n",
      "File \u001b[0;32m~/miniconda3/envs/tyxe_lorzo/lib/python3.9/site-packages/torch/nn/modules/container.py:139\u001b[0m, in \u001b[0;36mSequential.forward\u001b[0;34m(self, input)\u001b[0m\n\u001b[1;32m    137\u001b[0m \u001b[38;5;28;01mdef\u001b[39;00m \u001b[38;5;21mforward\u001b[39m(\u001b[38;5;28mself\u001b[39m, \u001b[38;5;28minput\u001b[39m):\n\u001b[1;32m    138\u001b[0m     \u001b[38;5;28;01mfor\u001b[39;00m module \u001b[38;5;129;01min\u001b[39;00m \u001b[38;5;28mself\u001b[39m:\n\u001b[0;32m--> 139\u001b[0m         \u001b[38;5;28minput\u001b[39m \u001b[38;5;241m=\u001b[39m \u001b[43mmodule\u001b[49m\u001b[43m(\u001b[49m\u001b[38;5;28;43minput\u001b[39;49m\u001b[43m)\u001b[49m\n\u001b[1;32m    140\u001b[0m     \u001b[38;5;28;01mreturn\u001b[39;00m \u001b[38;5;28minput\u001b[39m\n",
      "File \u001b[0;32m~/miniconda3/envs/tyxe_lorzo/lib/python3.9/site-packages/pyro/nn/module.py:426\u001b[0m, in \u001b[0;36mPyroModule.__call__\u001b[0;34m(self, *args, **kwargs)\u001b[0m\n\u001b[1;32m    424\u001b[0m \u001b[38;5;28;01mdef\u001b[39;00m \u001b[38;5;21m__call__\u001b[39m(\u001b[38;5;28mself\u001b[39m, \u001b[38;5;241m*\u001b[39margs, \u001b[38;5;241m*\u001b[39m\u001b[38;5;241m*\u001b[39mkwargs):\n\u001b[1;32m    425\u001b[0m     \u001b[38;5;28;01mwith\u001b[39;00m \u001b[38;5;28mself\u001b[39m\u001b[38;5;241m.\u001b[39m_pyro_context:\n\u001b[0;32m--> 426\u001b[0m         \u001b[38;5;28;01mreturn\u001b[39;00m \u001b[38;5;28;43msuper\u001b[39;49m\u001b[43m(\u001b[49m\u001b[43m)\u001b[49m\u001b[38;5;241;43m.\u001b[39;49m\u001b[38;5;21;43m__call__\u001b[39;49m\u001b[43m(\u001b[49m\u001b[38;5;241;43m*\u001b[39;49m\u001b[43margs\u001b[49m\u001b[43m,\u001b[49m\u001b[43m \u001b[49m\u001b[38;5;241;43m*\u001b[39;49m\u001b[38;5;241;43m*\u001b[39;49m\u001b[43mkwargs\u001b[49m\u001b[43m)\u001b[49m\n",
      "File \u001b[0;32m~/miniconda3/envs/tyxe_lorzo/lib/python3.9/site-packages/torch/nn/modules/module.py:1130\u001b[0m, in \u001b[0;36mModule._call_impl\u001b[0;34m(self, *input, **kwargs)\u001b[0m\n\u001b[1;32m   1126\u001b[0m \u001b[38;5;66;03m# If we don't have any hooks, we want to skip the rest of the logic in\u001b[39;00m\n\u001b[1;32m   1127\u001b[0m \u001b[38;5;66;03m# this function, and just call forward.\u001b[39;00m\n\u001b[1;32m   1128\u001b[0m \u001b[38;5;28;01mif\u001b[39;00m \u001b[38;5;129;01mnot\u001b[39;00m (\u001b[38;5;28mself\u001b[39m\u001b[38;5;241m.\u001b[39m_backward_hooks \u001b[38;5;129;01mor\u001b[39;00m \u001b[38;5;28mself\u001b[39m\u001b[38;5;241m.\u001b[39m_forward_hooks \u001b[38;5;129;01mor\u001b[39;00m \u001b[38;5;28mself\u001b[39m\u001b[38;5;241m.\u001b[39m_forward_pre_hooks \u001b[38;5;129;01mor\u001b[39;00m _global_backward_hooks\n\u001b[1;32m   1129\u001b[0m         \u001b[38;5;129;01mor\u001b[39;00m _global_forward_hooks \u001b[38;5;129;01mor\u001b[39;00m _global_forward_pre_hooks):\n\u001b[0;32m-> 1130\u001b[0m     \u001b[38;5;28;01mreturn\u001b[39;00m \u001b[43mforward_call\u001b[49m\u001b[43m(\u001b[49m\u001b[38;5;241;43m*\u001b[39;49m\u001b[38;5;28;43minput\u001b[39;49m\u001b[43m,\u001b[49m\u001b[43m \u001b[49m\u001b[38;5;241;43m*\u001b[39;49m\u001b[38;5;241;43m*\u001b[39;49m\u001b[43mkwargs\u001b[49m\u001b[43m)\u001b[49m\n\u001b[1;32m   1131\u001b[0m \u001b[38;5;66;03m# Do not call functions when jit is used\u001b[39;00m\n\u001b[1;32m   1132\u001b[0m full_backward_hooks, non_full_backward_hooks \u001b[38;5;241m=\u001b[39m [], []\n",
      "File \u001b[0;32m~/miniconda3/envs/tyxe_lorzo/lib/python3.9/site-packages/torch/nn/modules/conv.py:457\u001b[0m, in \u001b[0;36mConv2d.forward\u001b[0;34m(self, input)\u001b[0m\n\u001b[1;32m    456\u001b[0m \u001b[38;5;28;01mdef\u001b[39;00m \u001b[38;5;21mforward\u001b[39m(\u001b[38;5;28mself\u001b[39m, \u001b[38;5;28minput\u001b[39m: Tensor) \u001b[38;5;241m-\u001b[39m\u001b[38;5;241m>\u001b[39m Tensor:\n\u001b[0;32m--> 457\u001b[0m     \u001b[38;5;28;01mreturn\u001b[39;00m \u001b[38;5;28;43mself\u001b[39;49m\u001b[38;5;241;43m.\u001b[39;49m\u001b[43m_conv_forward\u001b[49m\u001b[43m(\u001b[49m\u001b[38;5;28;43minput\u001b[39;49m\u001b[43m,\u001b[49m\u001b[43m \u001b[49m\u001b[38;5;28;43mself\u001b[39;49m\u001b[38;5;241;43m.\u001b[39;49m\u001b[43mweight\u001b[49m\u001b[43m,\u001b[49m\u001b[43m \u001b[49m\u001b[38;5;28;43mself\u001b[39;49m\u001b[38;5;241;43m.\u001b[39;49m\u001b[43mbias\u001b[49m\u001b[43m)\u001b[49m\n",
      "File \u001b[0;32m~/miniconda3/envs/tyxe_lorzo/lib/python3.9/site-packages/torch/nn/modules/conv.py:453\u001b[0m, in \u001b[0;36mConv2d._conv_forward\u001b[0;34m(self, input, weight, bias)\u001b[0m\n\u001b[1;32m    449\u001b[0m \u001b[38;5;28;01mif\u001b[39;00m \u001b[38;5;28mself\u001b[39m\u001b[38;5;241m.\u001b[39mpadding_mode \u001b[38;5;241m!=\u001b[39m \u001b[38;5;124m'\u001b[39m\u001b[38;5;124mzeros\u001b[39m\u001b[38;5;124m'\u001b[39m:\n\u001b[1;32m    450\u001b[0m     \u001b[38;5;28;01mreturn\u001b[39;00m F\u001b[38;5;241m.\u001b[39mconv2d(F\u001b[38;5;241m.\u001b[39mpad(\u001b[38;5;28minput\u001b[39m, \u001b[38;5;28mself\u001b[39m\u001b[38;5;241m.\u001b[39m_reversed_padding_repeated_twice, mode\u001b[38;5;241m=\u001b[39m\u001b[38;5;28mself\u001b[39m\u001b[38;5;241m.\u001b[39mpadding_mode),\n\u001b[1;32m    451\u001b[0m                     weight, bias, \u001b[38;5;28mself\u001b[39m\u001b[38;5;241m.\u001b[39mstride,\n\u001b[1;32m    452\u001b[0m                     _pair(\u001b[38;5;241m0\u001b[39m), \u001b[38;5;28mself\u001b[39m\u001b[38;5;241m.\u001b[39mdilation, \u001b[38;5;28mself\u001b[39m\u001b[38;5;241m.\u001b[39mgroups)\n\u001b[0;32m--> 453\u001b[0m \u001b[38;5;28;01mreturn\u001b[39;00m \u001b[43mF\u001b[49m\u001b[38;5;241;43m.\u001b[39;49m\u001b[43mconv2d\u001b[49m\u001b[43m(\u001b[49m\u001b[38;5;28;43minput\u001b[39;49m\u001b[43m,\u001b[49m\u001b[43m \u001b[49m\u001b[43mweight\u001b[49m\u001b[43m,\u001b[49m\u001b[43m \u001b[49m\u001b[43mbias\u001b[49m\u001b[43m,\u001b[49m\u001b[43m \u001b[49m\u001b[38;5;28;43mself\u001b[39;49m\u001b[38;5;241;43m.\u001b[39;49m\u001b[43mstride\u001b[49m\u001b[43m,\u001b[49m\n\u001b[1;32m    454\u001b[0m \u001b[43m                \u001b[49m\u001b[38;5;28;43mself\u001b[39;49m\u001b[38;5;241;43m.\u001b[39;49m\u001b[43mpadding\u001b[49m\u001b[43m,\u001b[49m\u001b[43m \u001b[49m\u001b[38;5;28;43mself\u001b[39;49m\u001b[38;5;241;43m.\u001b[39;49m\u001b[43mdilation\u001b[49m\u001b[43m,\u001b[49m\u001b[43m \u001b[49m\u001b[38;5;28;43mself\u001b[39;49m\u001b[38;5;241;43m.\u001b[39;49m\u001b[43mgroups\u001b[49m\u001b[43m)\u001b[49m\n",
      "\u001b[0;31mTypeError\u001b[0m: conv2d() received an invalid combination of arguments - got (DataFrame, Tensor, Tensor, tuple, tuple, tuple, int), but expected one of:\n * (Tensor input, Tensor weight, Tensor bias, tuple of ints stride, tuple of ints padding, tuple of ints dilation, int groups)\n      didn't match because some of the arguments have invalid types: (!DataFrame!, Tensor, Tensor, !tuple!, !tuple!, !tuple!, int)\n * (Tensor input, Tensor weight, Tensor bias, tuple of ints stride, str padding, tuple of ints dilation, int groups)\n      didn't match because some of the arguments have invalid types: (!DataFrame!, Tensor, Tensor, !tuple!, !tuple!, !tuple!, int)\n"
     ]
    }
   ],
   "source": [
    "bnn.evaluate(X_test, y_test, num_predictions=10)"
   ]
  },
  {
   "cell_type": "code",
   "execution_count": null,
   "id": "ca5fe851",
   "metadata": {},
   "outputs": [
    {
     "name": "stderr",
     "output_type": "stream",
     "text": [
      "/home/thomas/miniconda3/envs/tyxe_lorzo/lib/python3.9/site-packages/torchvision/io/image.py:13: UserWarning: Failed to load image Python extension: libtorch_cuda_cu.so: cannot open shared object file: No such file or directory\n",
      "  warn(f\"Failed to load image Python extension: {e}\")\n",
      "usage: ipykernel_launcher.py [-h] [--dataset {cifar10,cifar100}]\n",
      "                             [--architecture {resnet101,resnet152,resnet18,resnet34,resnet50,wide_resnet101_2,wide_resnet50_2}]\n",
      "                             --inference\n",
      "                             {ml,map,mean-field,last-layer-mean-field,last-layer-full,last-layer-low-rank}\n",
      "                             [--train-batch-size TRAIN_BATCH_SIZE]\n",
      "                             [--test-batch-size TEST_BATCH_SIZE]\n",
      "                             [--num-epochs NUM_EPOCHS]\n",
      "                             [--test-samples TEST_SAMPLES]\n",
      "                             [--local-reparameterization] [--flipout]\n",
      "                             [--max-guide-scale MAX_GUIDE_SCALE] [--rank RANK]\n",
      "                             [--root ROOT] [--seed SEED]\n",
      "                             [--output-dir OUTPUT_DIR]\n",
      "                             [--pretrained-weights PRETRAINED_WEIGHTS]\n",
      "                             [--scale-only] [--lr LR]\n",
      "                             [--milestones MILESTONES] [--gamma GAMMA]\n",
      "ipykernel_launcher.py: error: the following arguments are required: --inference\n"
     ]
    },
    {
     "ename": "SystemExit",
     "evalue": "2",
     "output_type": "error",
     "traceback": [
      "An exception has occurred, use %tb to see the full traceback.\n",
      "\u001b[0;31mSystemExit\u001b[0m\u001b[0;31m:\u001b[0m 2\n"
     ]
    },
    {
     "name": "stderr",
     "output_type": "stream",
     "text": [
      "/home/thomas/miniconda3/envs/tyxe_lorzo/lib/python3.9/site-packages/IPython/core/interactiveshell.py:3406: UserWarning: To exit: use 'exit', 'quit', or Ctrl-D.\n",
      "  warn(\"To exit: use 'exit', 'quit', or Ctrl-D.\", stacklevel=1)\n"
     ]
    }
   ],
   "source": [
    "exec(open(r\"./TyXe/examples/resnet.py\").read())"
   ]
  }
 ],
 "metadata": {
  "kernelspec": {
   "display_name": "tyxe_lorzo",
   "language": "python",
   "name": "tyxe_lorzo"
  },
  "language_info": {
   "codemirror_mode": {
    "name": "ipython",
    "version": 3
   },
   "file_extension": ".py",
   "mimetype": "text/x-python",
   "name": "python",
   "nbconvert_exporter": "python",
   "pygments_lexer": "ipython3",
   "version": "3.9.13"
  }
 },
 "nbformat": 4,
 "nbformat_minor": 5
}
