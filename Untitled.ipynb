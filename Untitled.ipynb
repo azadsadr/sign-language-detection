{
 "cells": [
  {
   "cell_type": "code",
   "execution_count": null,
   "id": "b1950fd0-b548-4481-a866-6190789622e2",
   "metadata": {},
   "outputs": [],
   "source": []
  }
 ],
 "metadata": {
  "kernelspec": {
   "display_name": "custom_name",
   "language": "python",
   "name": "custom_name"
  },
  "language_info": {
   "codemirror_mode": {
    "name": "ipython",
    "version": 3
   },
   "file_extension": ".py",
   "mimetype": "text/x-python",
   "name": "python",
   "nbconvert_exporter": "python",
   "pygments_lexer": "ipython3",
   "version": "3.10.4"
  }
 },
 "nbformat": 4,
 "nbformat_minor": 5
}
