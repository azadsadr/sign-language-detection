{
 "cells": [
  {
   "cell_type": "markdown",
   "metadata": {},
   "source": [
    "### import libraries"
   ]
  },
  {
   "cell_type": "code",
   "execution_count": 1,
   "metadata": {},
   "outputs": [],
   "source": [
    "import numpy as np\n",
    "import pandas as pd\n",
    "import torch\n",
    "import matplotlib.pyplot as plt\n",
    "from torch.utils.data import Dataset \n",
    "from torchvision import transforms"
   ]
  },
  {
   "cell_type": "code",
   "execution_count": 2,
   "metadata": {},
   "outputs": [],
   "source": [
    "class SignLanguageDataset(Dataset):\n",
    "\n",
    "    def __init__(self, images, labels=None, transform=None):\n",
    "        \"\"\"\n",
    "        Args:\n",
    "            images (string): Path to the csv file with annotations.\n",
    "            labels (string): Directory with all the images.\n",
    "            transform (callable, optional): Optional transform to be applied on a sample.\n",
    "        \"\"\"\n",
    "        self.images = images\n",
    "        self.labels = labels\n",
    "        self.transform = transform\n",
    "\n",
    "    def __len__(self):\n",
    "        return len(self.images)\n",
    "\n",
    "    def __getitem__(self, index):\n",
    "        \n",
    "        #if torch.is_tensor(idx):\n",
    "        #    idx = idx.tolist()\n",
    "        \n",
    "        x = self.images[index, :]\n",
    "        x = x.reshape(28, 28, 1)\n",
    "        if self.transform:\n",
    "            x = self.transform(x)\n",
    "        \n",
    "        y = self.labels[index]\n",
    "\n",
    "        if self.labels is not None:\n",
    "            return(x, y)\n",
    "        else:\n",
    "            return x"
   ]
  },
  {
   "cell_type": "markdown",
   "metadata": {},
   "source": [
    "### read data from csv files"
   ]
  },
  {
   "cell_type": "code",
   "execution_count": 3,
   "metadata": {},
   "outputs": [
    {
     "name": "stdout",
     "output_type": "stream",
     "text": [
      "train data type      : <class 'pandas.core.frame.DataFrame'>\n",
      "train data shape     : (27455, 785)\n",
      "----------------------------------------------------------\n",
      "test  data type      : <class 'pandas.core.frame.DataFrame'>\n",
      "test  data shape     : (7172, 785)\n",
      "----------------------------------------------------------\n",
      "Display first 5 rows of train dataset:\n"
     ]
    },
    {
     "data": {
      "text/html": [
       "<div>\n",
       "<style scoped>\n",
       "    .dataframe tbody tr th:only-of-type {\n",
       "        vertical-align: middle;\n",
       "    }\n",
       "\n",
       "    .dataframe tbody tr th {\n",
       "        vertical-align: top;\n",
       "    }\n",
       "\n",
       "    .dataframe thead th {\n",
       "        text-align: right;\n",
       "    }\n",
       "</style>\n",
       "<table border=\"1\" class=\"dataframe\">\n",
       "  <thead>\n",
       "    <tr style=\"text-align: right;\">\n",
       "      <th></th>\n",
       "      <th>label</th>\n",
       "      <th>pixel1</th>\n",
       "      <th>pixel2</th>\n",
       "      <th>pixel3</th>\n",
       "      <th>pixel4</th>\n",
       "      <th>pixel5</th>\n",
       "      <th>pixel6</th>\n",
       "      <th>pixel7</th>\n",
       "      <th>pixel8</th>\n",
       "      <th>pixel9</th>\n",
       "      <th>...</th>\n",
       "      <th>pixel775</th>\n",
       "      <th>pixel776</th>\n",
       "      <th>pixel777</th>\n",
       "      <th>pixel778</th>\n",
       "      <th>pixel779</th>\n",
       "      <th>pixel780</th>\n",
       "      <th>pixel781</th>\n",
       "      <th>pixel782</th>\n",
       "      <th>pixel783</th>\n",
       "      <th>pixel784</th>\n",
       "    </tr>\n",
       "  </thead>\n",
       "  <tbody>\n",
       "    <tr>\n",
       "      <th>0</th>\n",
       "      <td>3</td>\n",
       "      <td>107</td>\n",
       "      <td>118</td>\n",
       "      <td>127</td>\n",
       "      <td>134</td>\n",
       "      <td>139</td>\n",
       "      <td>143</td>\n",
       "      <td>146</td>\n",
       "      <td>150</td>\n",
       "      <td>153</td>\n",
       "      <td>...</td>\n",
       "      <td>207</td>\n",
       "      <td>207</td>\n",
       "      <td>207</td>\n",
       "      <td>207</td>\n",
       "      <td>206</td>\n",
       "      <td>206</td>\n",
       "      <td>206</td>\n",
       "      <td>204</td>\n",
       "      <td>203</td>\n",
       "      <td>202</td>\n",
       "    </tr>\n",
       "    <tr>\n",
       "      <th>1</th>\n",
       "      <td>6</td>\n",
       "      <td>155</td>\n",
       "      <td>157</td>\n",
       "      <td>156</td>\n",
       "      <td>156</td>\n",
       "      <td>156</td>\n",
       "      <td>157</td>\n",
       "      <td>156</td>\n",
       "      <td>158</td>\n",
       "      <td>158</td>\n",
       "      <td>...</td>\n",
       "      <td>69</td>\n",
       "      <td>149</td>\n",
       "      <td>128</td>\n",
       "      <td>87</td>\n",
       "      <td>94</td>\n",
       "      <td>163</td>\n",
       "      <td>175</td>\n",
       "      <td>103</td>\n",
       "      <td>135</td>\n",
       "      <td>149</td>\n",
       "    </tr>\n",
       "    <tr>\n",
       "      <th>2</th>\n",
       "      <td>2</td>\n",
       "      <td>187</td>\n",
       "      <td>188</td>\n",
       "      <td>188</td>\n",
       "      <td>187</td>\n",
       "      <td>187</td>\n",
       "      <td>186</td>\n",
       "      <td>187</td>\n",
       "      <td>188</td>\n",
       "      <td>187</td>\n",
       "      <td>...</td>\n",
       "      <td>202</td>\n",
       "      <td>201</td>\n",
       "      <td>200</td>\n",
       "      <td>199</td>\n",
       "      <td>198</td>\n",
       "      <td>199</td>\n",
       "      <td>198</td>\n",
       "      <td>195</td>\n",
       "      <td>194</td>\n",
       "      <td>195</td>\n",
       "    </tr>\n",
       "    <tr>\n",
       "      <th>3</th>\n",
       "      <td>2</td>\n",
       "      <td>211</td>\n",
       "      <td>211</td>\n",
       "      <td>212</td>\n",
       "      <td>212</td>\n",
       "      <td>211</td>\n",
       "      <td>210</td>\n",
       "      <td>211</td>\n",
       "      <td>210</td>\n",
       "      <td>210</td>\n",
       "      <td>...</td>\n",
       "      <td>235</td>\n",
       "      <td>234</td>\n",
       "      <td>233</td>\n",
       "      <td>231</td>\n",
       "      <td>230</td>\n",
       "      <td>226</td>\n",
       "      <td>225</td>\n",
       "      <td>222</td>\n",
       "      <td>229</td>\n",
       "      <td>163</td>\n",
       "    </tr>\n",
       "    <tr>\n",
       "      <th>4</th>\n",
       "      <td>13</td>\n",
       "      <td>164</td>\n",
       "      <td>167</td>\n",
       "      <td>170</td>\n",
       "      <td>172</td>\n",
       "      <td>176</td>\n",
       "      <td>179</td>\n",
       "      <td>180</td>\n",
       "      <td>184</td>\n",
       "      <td>185</td>\n",
       "      <td>...</td>\n",
       "      <td>92</td>\n",
       "      <td>105</td>\n",
       "      <td>105</td>\n",
       "      <td>108</td>\n",
       "      <td>133</td>\n",
       "      <td>163</td>\n",
       "      <td>157</td>\n",
       "      <td>163</td>\n",
       "      <td>164</td>\n",
       "      <td>179</td>\n",
       "    </tr>\n",
       "  </tbody>\n",
       "</table>\n",
       "<p>5 rows × 785 columns</p>\n",
       "</div>"
      ],
      "text/plain": [
       "   label  pixel1  pixel2  pixel3  pixel4  pixel5  pixel6  pixel7  pixel8  \\\n",
       "0      3     107     118     127     134     139     143     146     150   \n",
       "1      6     155     157     156     156     156     157     156     158   \n",
       "2      2     187     188     188     187     187     186     187     188   \n",
       "3      2     211     211     212     212     211     210     211     210   \n",
       "4     13     164     167     170     172     176     179     180     184   \n",
       "\n",
       "   pixel9  ...  pixel775  pixel776  pixel777  pixel778  pixel779  pixel780  \\\n",
       "0     153  ...       207       207       207       207       206       206   \n",
       "1     158  ...        69       149       128        87        94       163   \n",
       "2     187  ...       202       201       200       199       198       199   \n",
       "3     210  ...       235       234       233       231       230       226   \n",
       "4     185  ...        92       105       105       108       133       163   \n",
       "\n",
       "   pixel781  pixel782  pixel783  pixel784  \n",
       "0       206       204       203       202  \n",
       "1       175       103       135       149  \n",
       "2       198       195       194       195  \n",
       "3       225       222       229       163  \n",
       "4       157       163       164       179  \n",
       "\n",
       "[5 rows x 785 columns]"
      ]
     },
     "metadata": {},
     "output_type": "display_data"
    }
   ],
   "source": [
    "train_path = \"data/sign_mnist_train.csv\"\n",
    "test_path = \"data/sign_mnist_test.csv\"\n",
    "\n",
    "train_pd = pd.read_csv(train_path)\n",
    "test_pd = pd.read_csv(test_path)\n",
    "\n",
    "print('train data type      :', type(train_pd))\n",
    "print(\"train data shape     :\", train_pd.shape)\n",
    "print(\"----------------------------------------------------------\")\n",
    "print('test  data type      :', type(test_pd))\n",
    "print(\"test  data shape     :\", test_pd.shape)\n",
    "print(\"----------------------------------------------------------\")\n",
    "print(\"Display first 5 rows of train dataset:\")\n",
    "display(train_pd.head())"
   ]
  },
  {
   "cell_type": "markdown",
   "metadata": {},
   "source": [
    "### Convert data to numpy"
   ]
  },
  {
   "cell_type": "code",
   "execution_count": 4,
   "metadata": {},
   "outputs": [
    {
     "name": "stdout",
     "output_type": "stream",
     "text": [
      "no. of examples: 27455\n",
      "no. of features: 785\n"
     ]
    }
   ],
   "source": [
    "data_np = np.array(train_pd, dtype=np.float32)\n",
    "m, n = data_np.shape\n",
    "print('no. of examples:', m)\n",
    "print('no. of features:', n)\n",
    "\n",
    "# shuffle the data\n",
    "#np.random.shuffle(data_np)"
   ]
  },
  {
   "cell_type": "markdown",
   "metadata": {},
   "source": [
    "### split data to images and labels"
   ]
  },
  {
   "cell_type": "code",
   "execution_count": 5,
   "metadata": {},
   "outputs": [
    {
     "name": "stdout",
     "output_type": "stream",
     "text": [
      "images.shape      : (27455, 784)\n",
      "labels.shape      : (27455,)\n"
     ]
    }
   ],
   "source": [
    "labels_np = data_np[:, 0]\n",
    "images_np = data_np[:, 1:n]\n",
    "images_np = images_np / 255.\n",
    "\n",
    "print('images.shape      :', images_np.shape)\n",
    "print('labels.shape      :', labels_np.shape)"
   ]
  },
  {
   "cell_type": "markdown",
   "metadata": {},
   "source": [
    "### data augmentation"
   ]
  },
  {
   "cell_type": "code",
   "execution_count": 6,
   "metadata": {},
   "outputs": [
    {
     "name": "stdout",
     "output_type": "stream",
     "text": [
      "images and labels have same number of rows\n"
     ]
    }
   ],
   "source": [
    "if (images_np.shape[0]==labels_np.shape[0]):\n",
    "    print('images and labels have same number of rows')\n",
    "\n",
    "my_transforms = transforms.Compose([\n",
    "    transforms.ToPILImage(mode='F'), \n",
    "    transforms.Resize((32,32)), \n",
    "    transforms.RandomCrop((28,28)), \n",
    "    #transforms.ColorJitter(brightness=0.5), \n",
    "    transforms.RandomRotation(degrees=45), \n",
    "    transforms.RandomHorizontalFlip(p=0.5), \n",
    "    #transforms.RandomVerticalFlip(p=0.05), \n",
    "    #transforms.RandomGrayscale(p=0.2), \n",
    "    transforms.ToTensor(), \n",
    "    #transforms.Normalize(mean=0.5, std=0.5), # (value - mean) / std\n",
    "])\n",
    "\n",
    "data = SignLanguageDataset(images_np, labels_np, transform=my_transforms)\n",
    "#print(type(data))\n",
    "#print(data[2][0].shape)"
   ]
  },
  {
   "cell_type": "markdown",
   "metadata": {},
   "source": [
    "### data summary"
   ]
  },
  {
   "cell_type": "code",
   "execution_count": 21,
   "metadata": {},
   "outputs": [
    {
     "name": "stdout",
     "output_type": "stream",
     "text": [
      "for index, (images, labels) in enumerate(data):\n",
      "    index        : index of the row\n",
      "    images.shape : torch.Size([1, 28, 28])\n",
      "    type(labels) : <class 'numpy.float32'>\n"
     ]
    }
   ],
   "source": [
    "print('for index, (images, labels) in enumerate(data):')\n",
    "for index, (images, labels) in enumerate(data):\n",
    "    print('    index        : index of the row')\n",
    "    print('    images.shape :', images.shape)\n",
    "    print('    type(labels) :', type(labels))\n",
    "    break"
   ]
  },
  {
   "cell_type": "markdown",
   "metadata": {},
   "source": [
    "### create batches"
   ]
  },
  {
   "cell_type": "code",
   "execution_count": 19,
   "metadata": {},
   "outputs": [
    {
     "name": "stdout",
     "output_type": "stream",
     "text": [
      "torch.Size([64, 1, 28, 28])\n",
      "torch.Size([64])\n"
     ]
    }
   ],
   "source": [
    "train_loader = torch.utils.data.DataLoader(dataset=data, batch_size=64, shuffle=True)\n",
    "\n",
    "single_batch = iter(train_loader)\n",
    "images, labels = single_batch.next()\n",
    "print(images.shape)\n",
    "print(labels.shape)"
   ]
  },
  {
   "cell_type": "markdown",
   "metadata": {},
   "source": [
    "### data balance check"
   ]
  },
  {
   "cell_type": "code",
   "execution_count": 30,
   "metadata": {},
   "outputs": [
    {
     "name": "stdout",
     "output_type": "stream",
     "text": [
      "unique labels values:\n",
      " [ 0.  1.  2.  3.  4.  5.  6.  7.  8. 10. 11. 12. 13. 14. 15. 16. 17. 18.\n",
      " 19. 20. 21. 22. 23. 24.]\n",
      "no. of unique values: 24\n"
     ]
    },
    {
     "data": {
      "image/png": "[encoded data removed]",
      "text/plain": [
       "<Figure size 432x288 with 1 Axes>"
      ]
     },
     "metadata": {
      "needs_background": "light"
     },
     "output_type": "display_data"
    }
   ],
   "source": [
    "print(\"unique labels values:\\n\", np.unique(labels_np))\n",
    "print('no. of unique values:', len(np.unique(labels_np)))\n",
    "\n",
    "total = len(labels_np)\n",
    "counter_dict = {}\n",
    "for num in np.unique(labels_np):\n",
    "    counter_dict[num] = (len(labels_np[labels_np==num])/total)*100\n",
    "\n",
    "names = list(counter_dict.keys())\n",
    "values = list(counter_dict.values())\n",
    "plt.bar(range(len(counter_dict)), values, tick_label=names)\n",
    "plt.title(\"labels distributions in dataset\")\n",
    "plt.xlabel(\"labels\")\n",
    "plt.ylabel(\"Percentage\")\n",
    "plt.show()"
   ]
  },
  {
   "cell_type": "markdown",
   "metadata": {},
   "source": [
    "### Plot Some Examples"
   ]
  },
  {
   "cell_type": "code",
   "execution_count": 98,
   "metadata": {},
   "outputs": [
    {
     "name": "stdout",
     "output_type": "stream",
     "text": [
      "Label: 20\n"
     ]
    },
    {
     "data": {
      "image/png": "[encoded data removed]",
      "text/plain": [
       "<Figure size 432x288 with 1 Axes>"
      ]
     },
     "metadata": {
      "needs_background": "light"
     },
     "output_type": "display_data"
    }
   ],
   "source": [
    "idx = 796\n",
    "image, label = data[idx]\n",
    "#plt.gray()\n",
    "plt.imshow(image.reshape((28,28)), interpolation='nearest')\n",
    "plt.show\n",
    "print(\"Label:\", int(label.item()))"
   ]
  },
  {
   "cell_type": "markdown",
   "metadata": {},
   "source": [
    "### Store Variables to use in another notebook"
   ]
  },
  {
   "cell_type": "code",
   "execution_count": 37,
   "metadata": {},
   "outputs": [
    {
     "name": "stdout",
     "output_type": "stream",
     "text": [
      "Warning:data is <__main__.SignLanguageDataset object at 0x7f3fc073fe50>\n",
      "Proper storage of interactively declared classes (or instances\n",
      "of those classes) is not possible! Only instances\n",
      "of classes in real modules on file system can be %store'd.\n",
      "\n"
     ]
    }
   ],
   "source": [
    "# store variables to use in another notebook\n",
    "#x = images\n",
    "#y = labels\n",
    "%store data\n",
    "del data"
   ]
  },
  {
   "cell_type": "markdown",
   "metadata": {},
   "source": [
    "# STORAGE"
   ]
  },
  {
   "cell_type": "code",
   "execution_count": 11,
   "metadata": {},
   "outputs": [
    {
     "data": {
      "text/plain": [
       "'\\n# reshape each row  (784,) ---> (1, 28, 28)\\nimages_np_reshaped = images_np.reshape(-1, 1, 28,28)\\nprint(type(images_np_reshaped))\\nprint(images_np_reshaped.shape)\\nprint(images_np_reshaped[1,:,:,:].shape)\\n'"
      ]
     },
     "execution_count": 11,
     "metadata": {},
     "output_type": "execute_result"
    }
   ],
   "source": [
    "'''\n",
    "# reshape each row  (784,) ---> (1, 28, 28)\n",
    "images_np_reshaped = images_np.reshape(-1, 1, 28,28)\n",
    "print(type(images_np_reshaped))\n",
    "print(images_np_reshaped.shape)\n",
    "print(images_np_reshaped[1,:,:,:].shape)\n",
    "\n",
    "images = torch.from_numpy(images_np_reshaped)\n",
    "labels = torch.from_numpy(labels_np)\n",
    "print('images type  :', type(images))\n",
    "print('images shape :', images.shape)\n",
    "print(\"----------------------------------------------------------\")\n",
    "print('labels types :', type(labels))\n",
    "print('labels shape :', labels.shape)\n",
    "'''"
   ]
  }
 ],
 "metadata": {
  "kernelspec": {
   "display_name": "Python 3.10.4 ('test')",
   "language": "python",
   "name": "python3"
  },
  "language_info": {
   "codemirror_mode": {
    "name": "ipython",
    "version": 3
   },
   "file_extension": ".py",
   "mimetype": "text/x-python",
   "name": "python",
   "nbconvert_exporter": "python",
   "pygments_lexer": "ipython3",
   "version": "3.10.4"
  },
  "orig_nbformat": 4,
  "vscode": {
   "interpreter": {
    "hash": "3d6f7e2b19f5583e90f0e1c45935e0e2e666c556fd2ef0f9241dac243ca3abe7"
   }
  }
 },
 "nbformat": 4,
 "nbformat_minor": 2
}
