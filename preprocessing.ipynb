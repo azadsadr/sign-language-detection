{
 "cells": [
  {
   "cell_type": "markdown",
   "metadata": {},
   "source": [
    "### import libraries"
   ]
  },
  {
   "cell_type": "code",
   "execution_count": 5,
   "metadata": {},
   "outputs": [],
   "source": [
    "import numpy as np\n",
    "import pandas as pd\n",
    "import torch\n",
    "import matplotlib.pyplot as plt"
   ]
  },
  {
   "cell_type": "markdown",
   "metadata": {},
   "source": [
    "### read data from csv files"
   ]
  },
  {
   "cell_type": "code",
   "execution_count": 69,
   "metadata": {},
   "outputs": [
    {
     "name": "stdout",
     "output_type": "stream",
     "text": [
      "train_pd data type   : <class 'pandas.core.frame.DataFrame'>\n",
      "train_pd.shape       : (27455, 785)\n",
      "test_pd.shape        : (7172, 785)\n"
     ]
    },
    {
     "data": {
      "text/html": [
       "<div>\n",
       "<style scoped>\n",
       "    .dataframe tbody tr th:only-of-type {\n",
       "        vertical-align: middle;\n",
       "    }\n",
       "\n",
       "    .dataframe tbody tr th {\n",
       "        vertical-align: top;\n",
       "    }\n",
       "\n",
       "    .dataframe thead th {\n",
       "        text-align: right;\n",
       "    }\n",
       "</style>\n",
       "<table border=\"1\" class=\"dataframe\">\n",
       "  <thead>\n",
       "    <tr style=\"text-align: right;\">\n",
       "      <th></th>\n",
       "      <th>label</th>\n",
       "      <th>pixel1</th>\n",
       "      <th>pixel2</th>\n",
       "      <th>pixel3</th>\n",
       "      <th>pixel4</th>\n",
       "      <th>pixel5</th>\n",
       "      <th>pixel6</th>\n",
       "      <th>pixel7</th>\n",
       "      <th>pixel8</th>\n",
       "      <th>pixel9</th>\n",
       "      <th>...</th>\n",
       "      <th>pixel775</th>\n",
       "      <th>pixel776</th>\n",
       "      <th>pixel777</th>\n",
       "      <th>pixel778</th>\n",
       "      <th>pixel779</th>\n",
       "      <th>pixel780</th>\n",
       "      <th>pixel781</th>\n",
       "      <th>pixel782</th>\n",
       "      <th>pixel783</th>\n",
       "      <th>pixel784</th>\n",
       "    </tr>\n",
       "  </thead>\n",
       "  <tbody>\n",
       "    <tr>\n",
       "      <th>0</th>\n",
       "      <td>3</td>\n",
       "      <td>107</td>\n",
       "      <td>118</td>\n",
       "      <td>127</td>\n",
       "      <td>134</td>\n",
       "      <td>139</td>\n",
       "      <td>143</td>\n",
       "      <td>146</td>\n",
       "      <td>150</td>\n",
       "      <td>153</td>\n",
       "      <td>...</td>\n",
       "      <td>207</td>\n",
       "      <td>207</td>\n",
       "      <td>207</td>\n",
       "      <td>207</td>\n",
       "      <td>206</td>\n",
       "      <td>206</td>\n",
       "      <td>206</td>\n",
       "      <td>204</td>\n",
       "      <td>203</td>\n",
       "      <td>202</td>\n",
       "    </tr>\n",
       "    <tr>\n",
       "      <th>1</th>\n",
       "      <td>6</td>\n",
       "      <td>155</td>\n",
       "      <td>157</td>\n",
       "      <td>156</td>\n",
       "      <td>156</td>\n",
       "      <td>156</td>\n",
       "      <td>157</td>\n",
       "      <td>156</td>\n",
       "      <td>158</td>\n",
       "      <td>158</td>\n",
       "      <td>...</td>\n",
       "      <td>69</td>\n",
       "      <td>149</td>\n",
       "      <td>128</td>\n",
       "      <td>87</td>\n",
       "      <td>94</td>\n",
       "      <td>163</td>\n",
       "      <td>175</td>\n",
       "      <td>103</td>\n",
       "      <td>135</td>\n",
       "      <td>149</td>\n",
       "    </tr>\n",
       "    <tr>\n",
       "      <th>2</th>\n",
       "      <td>2</td>\n",
       "      <td>187</td>\n",
       "      <td>188</td>\n",
       "      <td>188</td>\n",
       "      <td>187</td>\n",
       "      <td>187</td>\n",
       "      <td>186</td>\n",
       "      <td>187</td>\n",
       "      <td>188</td>\n",
       "      <td>187</td>\n",
       "      <td>...</td>\n",
       "      <td>202</td>\n",
       "      <td>201</td>\n",
       "      <td>200</td>\n",
       "      <td>199</td>\n",
       "      <td>198</td>\n",
       "      <td>199</td>\n",
       "      <td>198</td>\n",
       "      <td>195</td>\n",
       "      <td>194</td>\n",
       "      <td>195</td>\n",
       "    </tr>\n",
       "    <tr>\n",
       "      <th>3</th>\n",
       "      <td>2</td>\n",
       "      <td>211</td>\n",
       "      <td>211</td>\n",
       "      <td>212</td>\n",
       "      <td>212</td>\n",
       "      <td>211</td>\n",
       "      <td>210</td>\n",
       "      <td>211</td>\n",
       "      <td>210</td>\n",
       "      <td>210</td>\n",
       "      <td>...</td>\n",
       "      <td>235</td>\n",
       "      <td>234</td>\n",
       "      <td>233</td>\n",
       "      <td>231</td>\n",
       "      <td>230</td>\n",
       "      <td>226</td>\n",
       "      <td>225</td>\n",
       "      <td>222</td>\n",
       "      <td>229</td>\n",
       "      <td>163</td>\n",
       "    </tr>\n",
       "    <tr>\n",
       "      <th>4</th>\n",
       "      <td>13</td>\n",
       "      <td>164</td>\n",
       "      <td>167</td>\n",
       "      <td>170</td>\n",
       "      <td>172</td>\n",
       "      <td>176</td>\n",
       "      <td>179</td>\n",
       "      <td>180</td>\n",
       "      <td>184</td>\n",
       "      <td>185</td>\n",
       "      <td>...</td>\n",
       "      <td>92</td>\n",
       "      <td>105</td>\n",
       "      <td>105</td>\n",
       "      <td>108</td>\n",
       "      <td>133</td>\n",
       "      <td>163</td>\n",
       "      <td>157</td>\n",
       "      <td>163</td>\n",
       "      <td>164</td>\n",
       "      <td>179</td>\n",
       "    </tr>\n",
       "  </tbody>\n",
       "</table>\n",
       "<p>5 rows × 785 columns</p>\n",
       "</div>"
      ],
      "text/plain": [
       "   label  pixel1  pixel2  pixel3  pixel4  pixel5  pixel6  pixel7  pixel8  \\\n",
       "0      3     107     118     127     134     139     143     146     150   \n",
       "1      6     155     157     156     156     156     157     156     158   \n",
       "2      2     187     188     188     187     187     186     187     188   \n",
       "3      2     211     211     212     212     211     210     211     210   \n",
       "4     13     164     167     170     172     176     179     180     184   \n",
       "\n",
       "   pixel9  ...  pixel775  pixel776  pixel777  pixel778  pixel779  pixel780  \\\n",
       "0     153  ...       207       207       207       207       206       206   \n",
       "1     158  ...        69       149       128        87        94       163   \n",
       "2     187  ...       202       201       200       199       198       199   \n",
       "3     210  ...       235       234       233       231       230       226   \n",
       "4     185  ...        92       105       105       108       133       163   \n",
       "\n",
       "   pixel781  pixel782  pixel783  pixel784  \n",
       "0       206       204       203       202  \n",
       "1       175       103       135       149  \n",
       "2       198       195       194       195  \n",
       "3       225       222       229       163  \n",
       "4       157       163       164       179  \n",
       "\n",
       "[5 rows x 785 columns]"
      ]
     },
     "metadata": {},
     "output_type": "display_data"
    }
   ],
   "source": [
    "train_path = \"data/sign_mnist_train.csv\"\n",
    "test_path = \"data/sign_mnist_test.csv\"\n",
    "\n",
    "train_pd = pd.read_csv(train_path)\n",
    "test_pd = pd.read_csv(test_path)\n",
    "\n",
    "print('train_pd data type   :', type(train_pd))\n",
    "print(\"train_pd.shape       :\", train_pd.shape)\n",
    "print(\"test_pd.shape        :\", test_pd.shape)\n",
    "\n",
    "display(train_pd.head())\n"
   ]
  },
  {
   "cell_type": "markdown",
   "metadata": {},
   "source": [
    "### Convert data to numpy and shuffle"
   ]
  },
  {
   "cell_type": "code",
   "execution_count": 70,
   "metadata": {},
   "outputs": [
    {
     "name": "stdout",
     "output_type": "stream",
     "text": [
      "type(data_np)       : <class 'numpy.ndarray'>\n",
      "data_np.shape       : (27455, 785)\n",
      "no. of examples: 27455\n",
      "no. of features: 785\n"
     ]
    }
   ],
   "source": [
    "data_np = np.array(train_pd)\n",
    "print('type(data_np)       :', type(data_np))\n",
    "print('data_np.shape       :', data_np.shape)\n",
    "m, n = data_np.shape\n",
    "print('no. of examples:', m)\n",
    "print('no. of features:', n)\n",
    "\n",
    "# shuffle the data\n",
    "np.random.shuffle(data_np)"
   ]
  },
  {
   "cell_type": "markdown",
   "metadata": {},
   "source": [
    "### split data to images and labels"
   ]
  },
  {
   "cell_type": "code",
   "execution_count": 112,
   "metadata": {},
   "outputs": [
    {
     "name": "stdout",
     "output_type": "stream",
     "text": [
      "images.shape      : (27455, 784)\n",
      "labels.shape      : (27455,)\n"
     ]
    }
   ],
   "source": [
    "labels_np = data_np[:, 0]\n",
    "images_np = data_np[:, 1:n]\n",
    "images_np = images_np / 255.\n",
    "\n",
    "print('images.shape      :', images_np.shape)\n",
    "print('labels.shape      :', labels_np.shape)"
   ]
  },
  {
   "cell_type": "code",
   "execution_count": 113,
   "metadata": {},
   "outputs": [
    {
     "name": "stdout",
     "output_type": "stream",
     "text": [
      "images and labels have same number of rows\n",
      "(784,)\n"
     ]
    }
   ],
   "source": [
    "if (images_np.shape[0]==labels_np.shape[0]):\n",
    "    print('images and labels have same number of rows')\n",
    "\n",
    "print(images_np[1,].shape)"
   ]
  },
  {
   "cell_type": "markdown",
   "metadata": {},
   "source": [
    "### reshape data"
   ]
  },
  {
   "cell_type": "code",
   "execution_count": 114,
   "metadata": {},
   "outputs": [
    {
     "name": "stdout",
     "output_type": "stream",
     "text": [
      "<class 'numpy.ndarray'>\n",
      "(27455, 1, 28, 28)\n",
      "(1, 28, 28)\n"
     ]
    }
   ],
   "source": [
    "# reshape each row  (784,) ---> (1, 28, 28)\n",
    "reshaped = []\n",
    "counter = 0\n",
    "for img in images_np:\n",
    "    reshaped.append(img.reshape((1, 28, 28)))\n",
    "    counter += 1\n",
    "images_np_reshaped = np.array(reshaped)\n",
    "\n",
    "print(type(images_np_reshaped))\n",
    "print(images_np_reshaped.shape)\n",
    "print(images_np_reshaped[1,:,:,:].shape)"
   ]
  },
  {
   "cell_type": "code",
   "execution_count": 116,
   "metadata": {},
   "outputs": [
    {
     "name": "stdout",
     "output_type": "stream",
     "text": [
      "images type  : <class 'torch.Tensor'>\n",
      "images.shape : torch.Size([27455, 1, 28, 28])\n",
      "labels types : <class 'torch.Tensor'>\n",
      "labels.shape : torch.Size([27455])\n"
     ]
    }
   ],
   "source": [
    "images = torch.from_numpy(images_np_reshaped)\n",
    "labels = torch.from_numpy(labels_np)\n",
    "print('images type  :', type(images))\n",
    "print('images.shape :', images.shape)\n",
    "print('labels types :', type(labels))\n",
    "print('labels.shape :', labels.shape)"
   ]
  },
  {
   "cell_type": "markdown",
   "metadata": {},
   "source": [
    "### data balance check"
   ]
  },
  {
   "cell_type": "code",
   "execution_count": 131,
   "metadata": {},
   "outputs": [
    {
     "name": "stdout",
     "output_type": "stream",
     "text": [
      "[ 0  1  2  3  4  5  6  7  8 10 11 12 13 14 15 16 17 18 19 20 21 22 23 24]\n",
      "no. of unique values: 24\n",
      "0: 4.101256601711892\n",
      "1: 3.6787470406119107\n",
      "2: 4.1668184301584414\n",
      "3: 4.356219267892915\n",
      "4: 3.4857038790748494\n",
      "5: 4.385357858313604\n",
      "6: 3.9701329448187948\n",
      "7: 3.6896740120196685\n",
      "8: 4.23238025860499\n",
      "10: 4.057548716080859\n",
      "11: 4.520123839009288\n",
      "12: 3.8426516117282823\n",
      "13: 4.192314696776543\n",
      "14: 4.356219267892915\n",
      "15: 3.9628482972136228\n",
      "16: 4.658532143507558\n",
      "17: 4.713167000546348\n",
      "18: 4.367146239300674\n",
      "19: 4.319796029867056\n",
      "20: 4.228737934802404\n",
      "21: 3.940994354398106\n",
      "22: 4.461846658167911\n",
      "23: 4.239664906210162\n",
      "24: 4.072118011291204\n"
     ]
    }
   ],
   "source": [
    "print(np.unique(labels))\n",
    "print('no. of unique values:', len(np.unique(labels)))\n",
    "counter_dict = {0:0, 1:0, 2:0, 3:0, 4:0, 5:0, 6:0, 7:0, 8:0, \n",
    "10:0, 11:0, 12:0, 13:0, 14:0, 15:0, 16:0, 17:0, 18:0, \n",
    "19:0, 20:0, 21:0, 22:0, 23:0, 24:0}\n",
    "total = 0\n",
    "for label in labels:\n",
    "    counter_dict[int(label)] += 1\n",
    "    total += 1\n",
    "\n",
    "for i in counter_dict:\n",
    "    print(f\"{i}: {(counter_dict[i]/total)*100}\")"
   ]
  },
  {
   "cell_type": "markdown",
   "metadata": {},
   "source": [
    "### Plot Some Examples"
   ]
  },
  {
   "cell_type": "code",
   "execution_count": 165,
   "metadata": {},
   "outputs": [
    {
     "name": "stdout",
     "output_type": "stream",
     "text": [
      "Label: 20\n"
     ]
    },
    {
     "data": {
      "image/png": "[encoded data removed]",
      "text/plain": [
       "<Figure size 432x288 with 1 Axes>"
      ]
     },
     "metadata": {
      "needs_background": "light"
     },
     "output_type": "display_data"
    }
   ],
   "source": [
    "idx = 179\n",
    "\n",
    "#plt.gray()\n",
    "plt.imshow(images[idx,:].reshape((28,28)), interpolation='nearest')\n",
    "plt.show\n",
    "\n",
    "print(\"Label:\", labels[idx].item())"
   ]
  },
  {
   "cell_type": "markdown",
   "metadata": {},
   "source": [
    "0 : 0\n",
    "1 : 0\n",
    "2 : C\n",
    "3 : 0\n",
    "4 : ?\n",
    "5 : F\n",
    "6 : 0\n",
    "7 : 0\n",
    "8 : 0\n",
    "9 : 0\n",
    "10: R\n",
    "11: L\n",
    "12: 0\n",
    "13: T\n",
    "14: O o\n",
    "15: P\n",
    "16: Q\n",
    "17: D\n",
    "18: S\n",
    "19: 0\n",
    "20: 0\n",
    "21: 0\n",
    "22: W\n",
    "23: 0\n",
    "24: Y\n",
    "25: 0"
   ]
  }
 ],
 "metadata": {
  "kernelspec": {
   "display_name": "Python 3.10.4 ('test')",
   "language": "python",
   "name": "python3"
  },
  "language_info": {
   "codemirror_mode": {
    "name": "ipython",
    "version": 3
   },
   "file_extension": ".py",
   "mimetype": "text/x-python",
   "name": "python",
   "nbconvert_exporter": "python",
   "pygments_lexer": "ipython3",
   "version": "3.10.4"
  },
  "orig_nbformat": 4,
  "vscode": {
   "interpreter": {
    "hash": "3d6f7e2b19f5583e90f0e1c45935e0e2e666c556fd2ef0f9241dac243ca3abe7"
   }
  }
 },
 "nbformat": 4,
 "nbformat_minor": 2
}
