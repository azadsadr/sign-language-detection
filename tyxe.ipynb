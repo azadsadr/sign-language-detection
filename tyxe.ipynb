{
 "cells": [
  {
   "cell_type": "code",
   "execution_count": 1,
   "id": "716da5ce",
   "metadata": {},
   "outputs": [
    {
     "name": "stderr",
     "output_type": "stream",
     "text": [
      "/home/azad/anaconda3/envs/bnn/lib/python3.9/site-packages/tqdm/auto.py:22: TqdmWarning: IProgress not found. Please update jupyter and ipywidgets. See https://ipywidgets.readthedocs.io/en/stable/user_install.html\n",
      "  from .autonotebook import tqdm as notebook_tqdm\n"
     ]
    }
   ],
   "source": [
    "import numpy as np\n",
    "import pandas as pd\n",
    "import torch\n",
    "import pyro\n",
    "import tyxe\n",
    "from torch import nn\n",
    "from torch.utils.data import Dataset, DataLoader\n",
    "import functools\n",
    "import torchvision\n",
    "from torchvision import datasets, transforms\n",
    "import matplotlib.pyplot as plt\n",
    "import pyro.distributions as dist\n",
    "from pyro.infer import SVI\n",
    "import os\n",
    "import network"
   ]
  },
  {
   "cell_type": "code",
   "execution_count": 2,
   "id": "8824bd04",
   "metadata": {},
   "outputs": [],
   "source": [
    "# set matplotlib settings\n",
    "%matplotlib inline\n",
    "plt.style.use('ggplot')"
   ]
  },
  {
   "cell_type": "code",
   "execution_count": 3,
   "id": "7db07523",
   "metadata": {},
   "outputs": [
    {
     "name": "stdout",
     "output_type": "stream",
     "text": [
      "Device: cpu\n"
     ]
    }
   ],
   "source": [
    "device = torch.device('cuda' if torch.cuda.is_available() else 'cpu')\n",
    "print('Device: {}'.format(device))"
   ]
  },
  {
   "cell_type": "code",
   "execution_count": 4,
   "id": "3f3f0f22",
   "metadata": {},
   "outputs": [],
   "source": [
    "data = pd.read_csv(\"data/sign_mnist_train.csv\")\n",
    "tdata = pd.read_csv(\"data/sign_mnist_test.csv\")"
   ]
  },
  {
   "cell_type": "code",
   "execution_count": 7,
   "id": "2afb0f2c",
   "metadata": {},
   "outputs": [
    {
     "name": "stdout",
     "output_type": "stream",
     "text": [
      "27455\n",
      "24\n"
     ]
    }
   ],
   "source": [
    "dataset_size = len(data[\"label\"])\n",
    "print(dataset_size)\n",
    "n_classes = data[\"label\"].nunique()\n",
    "print(n_classes)"
   ]
  },
  {
   "cell_type": "code",
   "execution_count": 8,
   "id": "3bfe9c29",
   "metadata": {},
   "outputs": [],
   "source": [
    "y_train = data[\"label\"]\n",
    "X_train = data.drop(columns =[\"label\"])\n",
    "\n",
    "y_test = tdata[\"label\"]\n",
    "X_test = tdata.drop(columns =[\"label\"])"
   ]
  },
  {
   "cell_type": "code",
   "execution_count": 9,
   "id": "d0a49842",
   "metadata": {},
   "outputs": [],
   "source": [
    "class SignLanguageDataset(Dataset):\n",
    "    def __init__(self, df, transform=None):\n",
    "        self.df = df\n",
    "        self.transform = transform\n",
    "        \n",
    "    def __len__(self):\n",
    "        return self.df.shape[0]\n",
    "    \n",
    "    def __getitem__(self, index):\n",
    "        label = self.df.iloc[index, 0]\n",
    "        \n",
    "        img = self.df.iloc[index, 1:].values.reshape(28, 28)\n",
    "        img = torch.Tensor(img).unsqueeze(0)\n",
    "        if self.transform is not None:\n",
    "            img =self.transform(img)\n",
    "        \n",
    "        return img, label"
   ]
  },
  {
   "cell_type": "code",
   "execution_count": 10,
   "id": "ac8cb705",
   "metadata": {},
   "outputs": [],
   "source": [
    "y_train[y_train > 8] = y_train[y_train > 8] - 1\n",
    "pf = y_train[y_train == 9]"
   ]
  },
  {
   "cell_type": "code",
   "execution_count": 11,
   "id": "6ed515bb",
   "metadata": {},
   "outputs": [],
   "source": [
    "y_test[y_test > 8] = y_test[y_test > 8] - 1"
   ]
  },
  {
   "cell_type": "code",
   "execution_count": 13,
   "id": "899b9e57",
   "metadata": {},
   "outputs": [],
   "source": [
    "train_transforms = transforms.Compose(\n",
    "    [\n",
    "        transforms.RandomHorizontalFlip(), \n",
    "        transforms.RandomRotation(10), \n",
    "        transforms.Normalize(110, 110), \n",
    "        # transforms.ToTensor(), \n",
    "        # transforms.Normalize(159, 40), \n",
    "    ]\n",
    ")   \n",
    "\n",
    "test_transforms = transforms.Compose(\n",
    "    [\n",
    "        transforms.Normalize(110, 110)\n",
    "    ]\n",
    ")\n",
    "\n",
    "train_data = SignLanguageDataset(data, transform=train_transforms)\n",
    "test_data = SignLanguageDataset(tdata, transform=test_transforms)"
   ]
  },
  {
   "cell_type": "code",
   "execution_count": 14,
   "id": "06cf4fa0",
   "metadata": {},
   "outputs": [],
   "source": [
    "# dataloaders\n",
    "trainloader = DataLoader(\n",
    "    train_data, \n",
    "    batch_size=100, \n",
    "    #pin_memory=use_cuda, \n",
    "    #num_workers=2 * int(use_cuda), \n",
    "    shuffle=True\n",
    "    )\n",
    "\n",
    "testloader = DataLoader(\n",
    "    test_data, \n",
    "    batch_size=100, \n",
    "    shuffle=True\n",
    "    )"
   ]
  },
  {
   "cell_type": "code",
   "execution_count": 15,
   "id": "2d8e1d74",
   "metadata": {},
   "outputs": [
    {
     "name": "stdout",
     "output_type": "stream",
     "text": [
      "torch.Size([100, 1, 28, 28])\n",
      "torch.Size([100])\n"
     ]
    }
   ],
   "source": [
    "data_iter = iter(trainloader)\n",
    "images, labels = data_iter.next()\n",
    "print(images.shape)\n",
    "print(labels.shape)\n",
    "\n",
    "grid = torchvision.utils.make_grid(images)\n",
    "plt.figure(figsize=(60,30))\n",
    "plt.imshow(np.transpose(grid, (1, 2, 0)))\n",
    "print(\"labels \", labels)"
   ]
  },
  {
   "cell_type": "code",
   "execution_count": 18,
   "id": "68f679cd",
   "metadata": {},
   "outputs": [],
   "source": [
    "net = network.network(in_channels=1, output_size=24, device=device)"
   ]
  },
  {
   "cell_type": "code",
   "execution_count": 19,
   "id": "ce0843b9",
   "metadata": {},
   "outputs": [],
   "source": [
    "prior_kwargs = dict() # expose_all=False, hide_module_types=(nn.BatchNorm2d,))\n",
    "\n",
    "likelihood = tyxe.likelihoods.Categorical(len(trainloader.sampler))\n",
    "\n",
    "prior = tyxe.priors.IIDPrior(\n",
    "    dist.Normal(torch.zeros(1, device=device), torch.ones(1, device=device)), \n",
    "    **prior_kwargs\n",
    "    )\n",
    "                                 \n",
    "guide = functools.partial(\n",
    "    tyxe.guides.AutoNormal, \n",
    "    init_loc_fn=tyxe.guides.PretrainedInitializer.from_net(net, prefix=\"net\"), \n",
    "    init_scale=1e-4, \n",
    "    max_guide_scale=1\n",
    "    ) #, train_loc=not scale_only)\n",
    "bnn = tyxe.VariationalBNN(net, prior, likelihood, guide)"
   ]
  },
  {
   "cell_type": "code",
   "execution_count": 22,
   "id": "e441f96b",
   "metadata": {},
   "outputs": [],
   "source": [
    "pyro.clear_param_store()\n",
    "\n",
    "lr = 1e-3\n",
    "n_epochs = 1\n",
    "optim = pyro.optim.Adam({\"lr\": lr})\n",
    "\n",
    "error = []\n",
    "\n",
    "def callback(b, i, avg_elbo):\n",
    "    avg_err, avg_ll = 0., 0.\n",
    "    b.eval()\n",
    "    for x, y in iter(testloader):\n",
    "        err, ll = b.evaluate(x.to(device), y.to(device), num_predictions=10)\n",
    "        avg_err += err / len(testloader.sampler)\n",
    "        avg_ll += ll / len(testloader.sampler)\n",
    "    error.append(avg_err)\n",
    "    print(end = f\"  ELBO={avg_elbo}; test error={100 * avg_err:.2f}%; LL={avg_ll:.4f}\")\n",
    "    b.train()"
   ]
  },
  {
   "cell_type": "code",
   "execution_count": 23,
   "id": "f9ace734",
   "metadata": {},
   "outputs": [
    {
     "name": "stdout",
     "output_type": "stream",
     "text": [
      "  ELBO=30662933.330909092; test error=7.14%; LL=-0.2245"
     ]
    },
    {
     "data": {
      "text/plain": [
       "<pyro.infer.svi.SVI at 0x7fa2a80c6ac0>"
      ]
     },
     "execution_count": 23,
     "metadata": {},
     "output_type": "execute_result"
    }
   ],
   "source": [
    "#with tyxe.poutine.local_reparameterization():\n",
    "bnn.fit(trainloader, optim, n_epochs, callback, device=device)"
   ]
  },
  {
   "cell_type": "code",
   "execution_count": 24,
   "id": "48b69d22",
   "metadata": {},
   "outputs": [],
   "source": [
    "error_cpu = [error[i].to(\"cpu\")*100 for i in range(len(error))]"
   ]
  },
  {
   "cell_type": "code",
   "execution_count": 25,
   "id": "f5e8be4a",
   "metadata": {},
   "outputs": [
    {
     "data": {
      "image/png": "[encoded data removed]",
      "text/plain": [
       "<Figure size 640x480 with 1 Axes>"
      ]
     },
     "metadata": {},
     "output_type": "display_data"
    }
   ],
   "source": [
    "_=plt.plot(error_cpu)"
   ]
  },
  {
   "cell_type": "code",
   "execution_count": null,
   "id": "ebe9587e-955b-48c9-b307-b0fb214cd56c",
   "metadata": {},
   "outputs": [
    {
     "ename": "NameError",
     "evalue": "name 'output_dir' is not defined",
     "output_type": "error",
     "traceback": [
      "\u001b[0;31m---------------------------------------------------------------------------\u001b[0m",
      "\u001b[0;31mNameError\u001b[0m                                 Traceback (most recent call last)",
      "Input \u001b[0;32mIn [24]\u001b[0m, in \u001b[0;36m<cell line: 1>\u001b[0;34m()\u001b[0m\n\u001b[0;32m----> 1\u001b[0m pyro\u001b[38;5;241m.\u001b[39mget_param_store()\u001b[38;5;241m.\u001b[39msave(os\u001b[38;5;241m.\u001b[39mpath\u001b[38;5;241m.\u001b[39mjoin(\u001b[43moutput_dir\u001b[49m, \u001b[38;5;124m\"\u001b[39m\u001b[38;5;124mparam_store.pt\u001b[39m\u001b[38;5;124m\"\u001b[39m))\n\u001b[1;32m      2\u001b[0m torch\u001b[38;5;241m.\u001b[39msave(bnn\u001b[38;5;241m.\u001b[39mstate_dict(), os\u001b[38;5;241m.\u001b[39mpath\u001b[38;5;241m.\u001b[39mjoin(output_dir, \u001b[38;5;124m\"\u001b[39m\u001b[38;5;124mstate_dict.pt\u001b[39m\u001b[38;5;124m\"\u001b[39m))\n",
      "\u001b[0;31mNameError\u001b[0m: name 'output_dir' is not defined"
     ]
    }
   ],
   "source": [
    "# pyro.get_param_store().save(os.path.join(output_dir, \"param_store.pt\"))\n",
    "# torch.save(bnn.state_dict(), os.path.join(output_dir, \"state_dict.pt\"))"
   ]
  },
  {
   "cell_type": "code",
   "execution_count": 1,
   "id": "8da35cc4",
   "metadata": {},
   "outputs": [
    {
     "ename": "NameError",
     "evalue": "name 'torch' is not defined",
     "output_type": "error",
     "traceback": [
      "\u001b[0;31m---------------------------------------------------------------------------\u001b[0m",
      "\u001b[0;31mNameError\u001b[0m                                 Traceback (most recent call last)",
      "Cell \u001b[0;32mIn [1], line 1\u001b[0m\n\u001b[0;32m----> 1\u001b[0m test_predictions \u001b[39m=\u001b[39m torch\u001b[39m.\u001b[39mcat([bnn\u001b[39m.\u001b[39mpredict(x\u001b[39m.\u001b[39mto(device), num_predictions\u001b[39m=\u001b[39m\u001b[39m1\u001b[39m) \u001b[39mfor\u001b[39;00m x, _ \u001b[39min\u001b[39;00m \u001b[39miter\u001b[39m(testloader)])\n",
      "\u001b[0;31mNameError\u001b[0m: name 'torch' is not defined"
     ]
    }
   ],
   "source": [
    "test_predictions = torch.cat([bnn.predict(x.to(device), num_predictions=1) for x, _ in iter(testloader)])"
   ]
  },
  {
   "cell_type": "code",
   "execution_count": 27,
   "id": "9e3a7291",
   "metadata": {},
   "outputs": [
    {
     "name": "stdout",
     "output_type": "stream",
     "text": [
      "tensor([-1.5942e+01, -1.5942e+01, -1.5942e+01, -1.5942e+01, -1.5942e+01,\n",
      "        -1.5942e+01, -1.5942e+01, -1.5942e+01, -1.1921e-07, -1.5942e+01,\n",
      "        -1.5942e+01, -1.5942e+01, -1.5942e+01, -1.5942e+01, -1.5942e+01,\n",
      "        -1.5942e+01, -1.5942e+01, -1.5942e+01, -1.5942e+01, -1.5942e+01,\n",
      "        -1.5942e+01, -1.5942e+01, -1.5942e+01, -1.5942e+01], device='cuda:0')\n"
     ]
    }
   ],
   "source": [
    "print(test_predictions[60])"
   ]
  },
  {
   "cell_type": "code",
   "execution_count": 28,
   "id": "15e854a4",
   "metadata": {},
   "outputs": [
    {
     "data": {
      "text/plain": [
       "Text(0.5, 1.0, 'Prediction likelihood')"
      ]
     },
     "execution_count": 28,
     "metadata": {},
     "output_type": "execute_result"
    },
    {
     "data": {
      "image/png": "[encoded data removed]",
      "text/plain": [
       "<Figure size 640x480 with 1 Axes>"
      ]
     },
     "metadata": {},
     "output_type": "display_data"
    }
   ],
   "source": [
    "t = np.array([test_predictions[60][i].to(\"cpu\") for i in range(len(test_predictions[0]))])\n",
    "#hist = torch.histc(t, bins = 2, min = 0, max = 1)\n",
    "\n",
    "bins = 24\n",
    "x = range(1,25,1)\n",
    "\n",
    "#plt.bar(x, hist, align='center')\n",
    "plt.bar(x, np.exp(t), width=1, align='center')\n",
    "\n",
    "plt.xlabel('Classes')\n",
    "plt.title('Prediction likelihood')"
   ]
  },
  {
   "cell_type": "code",
   "execution_count": null,
   "id": "5a50fdd7-079d-46a8-9473-bba57ae4e266",
   "metadata": {},
   "outputs": [],
   "source": [
    "# SAVE AND LOAD A PRE-TRAINED BNN"
   ]
  },
  {
   "cell_type": "code",
   "execution_count": null,
   "id": "7ed660c0-ee2e-433c-9e6c-12bdaf2851cc",
   "metadata": {},
   "outputs": [],
   "source": [
    "# # SAVE\n",
    "\n",
    "# output_dir = '/home/thomas/Documents/repositories/sign-language-detection/output'\n",
    "\n",
    "# if output_dir is not None:\n",
    "#     pyro.get_param_store().save(os.path.join(output_dir, \"param_store.pt\"))\n",
    "#     torch.save(bnn.state_dict(), os.path.join(output_dir, \"state_dict.pt\"))"
   ]
  },
  {
   "cell_type": "code",
   "execution_count": null,
   "id": "8c28a008-25c5-4fa3-91c7-541a2b76a79a",
   "metadata": {},
   "outputs": [],
   "source": [
    "# output_dir = '/home/thomas/Documents/repositories/sign-language-detection/output'\n",
    "# sd = torch.load(os.path.join(output_dir, \"state_dict.pt\"), map_location=device)\n",
    "# net.load_state_dict(sd)"
   ]
  }
 ],
 "metadata": {
  "kernelspec": {
   "display_name": "bnn",
   "language": "python",
   "name": "python3"
  },
  "language_info": {
   "codemirror_mode": {
    "name": "ipython",
    "version": 3
   },
   "file_extension": ".py",
   "mimetype": "text/x-python",
   "name": "python",
   "nbconvert_exporter": "python",
   "pygments_lexer": "ipython3",
   "version": "3.9.13 | packaged by conda-forge | (main, May 27 2022, 16:56:21) \n[GCC 10.3.0]"
  },
  "vscode": {
   "interpreter": {
    "hash": "d09e971681001a3bfdc1839b66ef386ac64c285d9e0d72fab495a2fdc017d205"
   }
  }
 },
 "nbformat": 4,
 "nbformat_minor": 5
}
