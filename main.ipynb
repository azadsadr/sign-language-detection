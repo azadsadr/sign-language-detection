{
 "cells": [
  {
   "cell_type": "markdown",
   "metadata": {},
   "source": [
    "### get variables from preprocessing notebook"
   ]
  },
  {
   "cell_type": "code",
   "execution_count": 15,
   "metadata": {},
   "outputs": [
    {
     "name": "stdout",
     "output_type": "stream",
     "text": [
      "torch.Size([27455, 1, 28, 28])\n",
      "torch.Size([27455])\n"
     ]
    }
   ],
   "source": [
    "%store -r images\n",
    "%store -r labels"
   ]
  },
  {
   "cell_type": "code",
   "execution_count": 17,
   "metadata": {},
   "outputs": [
    {
     "name": "stdout",
     "output_type": "stream",
     "text": [
      "images type  : <class 'torch.Tensor'>\n",
      "images.shape : torch.Size([27455, 1, 28, 28])\n",
      "-------------------------------------\n",
      "labels types : <class 'torch.Tensor'>\n",
      "labels.shape : torch.Size([27455])\n"
     ]
    }
   ],
   "source": [
    "print('images type  :', type(images))\n",
    "print('images.shape :', images.shape)\n",
    "print(\"-------------------------------------\")\n",
    "print('labels types :', type(labels))\n",
    "print('labels.shape :', labels.shape)"
   ]
  }
 ],
 "metadata": {
  "kernelspec": {
   "display_name": "Python 3.10.4 ('test')",
   "language": "python",
   "name": "python3"
  },
  "language_info": {
   "codemirror_mode": {
    "name": "ipython",
    "version": 3
   },
   "file_extension": ".py",
   "mimetype": "text/x-python",
   "name": "python",
   "nbconvert_exporter": "python",
   "pygments_lexer": "ipython3",
   "version": "3.10.4"
  },
  "orig_nbformat": 4,
  "vscode": {
   "interpreter": {
    "hash": "3d6f7e2b19f5583e90f0e1c45935e0e2e666c556fd2ef0f9241dac243ca3abe7"
   }
  }
 },
 "nbformat": 4,
 "nbformat_minor": 2
}
